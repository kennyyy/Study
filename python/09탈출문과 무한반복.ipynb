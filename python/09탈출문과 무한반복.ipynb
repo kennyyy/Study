{
 "cells": [
  {
   "cell_type": "code",
   "execution_count": 6,
   "id": "071ea4c1",
   "metadata": {},
   "outputs": [
    {
     "name": "stdout",
     "output_type": "stream",
     "text": [
      "1 2 3 4 프로그램 정상종료\n"
     ]
    }
   ],
   "source": [
    "#탈출문 break, countinue\n",
    "\n",
    "for i in range(1, 11):\n",
    "    if i == 5:\n",
    "        break\n",
    "    print(i, end=\" \")\n",
    "    \n",
    "print(\"프로그램 정상종료\")"
   ]
  },
  {
   "cell_type": "code",
   "execution_count": 11,
   "id": "f5677a4a",
   "metadata": {},
   "outputs": [
    {
     "name": "stdout",
     "output_type": "stream",
     "text": [
      "1 2 3 4 6 7 8 9 10 "
     ]
    }
   ],
   "source": [
    "for i in range(1, 11):\n",
    "    if i == 5:\n",
    "        continue\n",
    "    print(i, end=\" \")\n"
   ]
  },
  {
   "cell_type": "code",
   "execution_count": 15,
   "id": "b969ba06",
   "metadata": {},
   "outputs": [
    {
     "name": "stdout",
     "output_type": "stream",
     "text": [
      "먹고싶은 과일> 이\n",
      "이\n",
      "먹고싶은 과일> 러\n",
      "러\n",
      "먹고싶은 과일> 그만\n",
      "그만을 입력해서 그만둡니다\n"
     ]
    }
   ],
   "source": [
    "#무한반복문\n",
    "while True :\n",
    "    fruit = input(\"먹고싶은 과일> \")\n",
    "    \n",
    "    if fruit == \"그만\":\n",
    "        print(\"그만을 입력해서 그만둡니다\")\n",
    "        break\n",
    "        \n",
    "    print(fruit)"
   ]
  },
  {
   "cell_type": "code",
   "execution_count": 27,
   "id": "4de3bf94",
   "metadata": {},
   "outputs": [
    {
     "name": "stdout",
     "output_type": "stream",
     "text": [
      "문제 : 38 X 12 = ?\n",
      "정답> 123\n",
      "틀렸습니다\n",
      "정답> 111\n",
      "틀렸습니다\n",
      "정답> 444\n",
      "틀렸습니다\n",
      "정답> 456\n",
      "정답입니다. 4 번 만에 맞추셨네요?\n"
     ]
    }
   ],
   "source": [
    "#num1 = int(input(\"문제 첫번째 값> \"))\n",
    "#num2 = int(input(\"문제 두번째 값> \"))\n",
    "cnt = 0\n",
    "print(f\"문제 : 38 X 12 = ?\")\n",
    "while True:\n",
    "    p = int(input(\"정답> \"))\n",
    "    cnt += 1\n",
    "    if p != 38*12 :\n",
    "        print(\"틀렸습니다\")\n",
    "    else :\n",
    "        break;\n",
    "print(f\"정답입니다. {cnt} 번 만에 맞추셨네요?\")        \n",
    "   \n",
    "    "
   ]
  },
  {
   "cell_type": "code",
   "execution_count": 1,
   "id": "5c43eec2",
   "metadata": {},
   "outputs": [
    {
     "name": "stdout",
     "output_type": "stream",
     "text": [
      "0보다 작다\n"
     ]
    }
   ],
   "source": [
    "#pass 키워드\n",
    "\n",
    "a = -1\n",
    "\n",
    "if a > 0 :\n",
    "    pass #나중에 작성해야지\n",
    "else:\n",
    "    print(\"0보다 작다\")"
   ]
  },
  {
   "cell_type": "code",
   "execution_count": null,
   "id": "3ee609ce",
   "metadata": {},
   "outputs": [],
   "source": []
  }
 ],
 "metadata": {
  "kernelspec": {
   "display_name": "Python 3 (ipykernel)",
   "language": "python",
   "name": "python3"
  },
  "language_info": {
   "codemirror_mode": {
    "name": "ipython",
    "version": 3
   },
   "file_extension": ".py",
   "mimetype": "text/x-python",
   "name": "python",
   "nbconvert_exporter": "python",
   "pygments_lexer": "ipython3",
   "version": "3.11.5"
  }
 },
 "nbformat": 4,
 "nbformat_minor": 5
}
