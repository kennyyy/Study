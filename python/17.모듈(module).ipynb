{
 "cells": [
  {
   "cell_type": "code",
   "execution_count": null,
   "id": "f150e8ec",
   "metadata": {},
   "outputs": [],
   "source": [
    "#17.모듈(module)\n",
    "# 모듈이란, 파이썬에 미리 만들어져 있는 스크립트 파일\n",
    "# import 모듈명 << 을 사용 합니다.\n",
    "# https://docs.python.org/3.11/library/index.html 공식홈페이지 참조"
   ]
  },
  {
   "cell_type": "code",
   "execution_count": 2,
   "id": "4e7819d2",
   "metadata": {},
   "outputs": [
    {
     "data": {
      "text/plain": [
       "'Tue Oct 24 15:21:10 2023'"
      ]
     },
     "execution_count": 2,
     "metadata": {},
     "output_type": "execute_result"
    }
   ],
   "source": [
    "import time\n",
    "\n",
    "result = time.ctime() # shift + tab\n",
    "result\n"
   ]
  },
  {
   "cell_type": "code",
   "execution_count": 3,
   "id": "3a88d621",
   "metadata": {},
   "outputs": [
    {
     "data": {
      "text/plain": [
       "2.0"
      ]
     },
     "execution_count": 3,
     "metadata": {},
     "output_type": "execute_result"
    }
   ],
   "source": [
    "import math import\n",
    "\n",
    "math.ceil(3.14) # 올림\n",
    "\n",
    "math.sqrt(4) #루트\n",
    "\n",
    "math.floor(3.14) #내림\n"
   ]
  },
  {
   "cell_type": "code",
   "execution_count": 5,
   "id": "dd663efa",
   "metadata": {},
   "outputs": [
    {
     "ename": "SyntaxError",
     "evalue": "invalid syntax (3520521166.py, line 5)",
     "output_type": "error",
     "traceback": [
      "\u001b[1;36m  Cell \u001b[1;32mIn[5], line 5\u001b[1;36m\u001b[0m\n\u001b[1;33m    from math import ceil. floor, sqrt\u001b[0m\n\u001b[1;37m                         ^\u001b[0m\n\u001b[1;31mSyntaxError\u001b[0m\u001b[1;31m:\u001b[0m invalid syntax\n"
     ]
    }
   ],
   "source": [
    "# 모듈 가져오기 방법2\n",
    "#import 패키지명 as 패키지별칭\n",
    "#import 모듈명 as 모듈별칭\n",
    "#A 모듈 또는 패키지의 이름이 길 경우 별칭을 주어 짧게 쓰기 위한 용도로 사용\n",
    "from math import ceil. floor, sqrt\n",
    "ceil(3.14) # 올림\n",
    "\n",
    "sqrt(4) #루트\n",
    "\n",
    "floor(3.14) #내림\n"
   ]
  },
  {
   "cell_type": "code",
   "execution_count": 6,
   "id": "2d567330",
   "metadata": {},
   "outputs": [
    {
     "data": {
      "text/plain": [
       "'Tue Oct 24 15:33:28 2023'"
      ]
     },
     "execution_count": 6,
     "metadata": {},
     "output_type": "execute_result"
    }
   ],
   "source": [
    "#모듈 가져오기 방법 3 별칭짓기 - ctime함수의 별칭을 지정하여 짧기 쓰기 위한 용도\n",
    "import time as t\n",
    "t.ctime()"
   ]
  },
  {
   "cell_type": "code",
   "execution_count": 11,
   "id": "511664a4",
   "metadata": {},
   "outputs": [
    {
     "ename": "TypeError",
     "evalue": "pivot() missing 1 required keyword-only argument: 'columns'",
     "output_type": "error",
     "traceback": [
      "\u001b[1;31m---------------------------------------------------------------------------\u001b[0m",
      "\u001b[1;31mTypeError\u001b[0m                                 Traceback (most recent call last)",
      "Cell \u001b[1;32mIn[11], line 8\u001b[0m\n\u001b[0;32m      2\u001b[0m data \u001b[38;5;241m=\u001b[39m {\n\u001b[0;32m      3\u001b[0m     \u001b[38;5;124m'\u001b[39m\u001b[38;5;124m이름\u001b[39m\u001b[38;5;124m'\u001b[39m : [\u001b[38;5;124m'\u001b[39m\u001b[38;5;124m홍길동\u001b[39m\u001b[38;5;124m'\u001b[39m, \u001b[38;5;124m\"\u001b[39m\u001b[38;5;124m이순신\u001b[39m\u001b[38;5;124m\"\u001b[39m],\n\u001b[0;32m      4\u001b[0m     \u001b[38;5;124m'\u001b[39m\u001b[38;5;124m나이\u001b[39m\u001b[38;5;124m'\u001b[39m : [\u001b[38;5;241m10\u001b[39m, \u001b[38;5;241m20\u001b[39m],\n\u001b[0;32m      5\u001b[0m     \u001b[38;5;124m'\u001b[39m\u001b[38;5;124m점수\u001b[39m\u001b[38;5;124m'\u001b[39m : [\u001b[38;5;241m100\u001b[39m, \u001b[38;5;241m90\u001b[39m]\n\u001b[0;32m      6\u001b[0m }\n\u001b[0;32m      7\u001b[0m pd\u001b[38;5;241m.\u001b[39mDataFrame(data)\n\u001b[1;32m----> 8\u001b[0m pd\u001b[38;5;241m.\u001b[39mpivot(data)\n",
      "\u001b[1;31mTypeError\u001b[0m: pivot() missing 1 required keyword-only argument: 'columns'"
     ]
    }
   ],
   "source": [
    "import pandas as pd\n",
    "data = {\n",
    "    '이름' : ['홍길동', \"이순신\"],\n",
    "    '나이' : [10, 20],\n",
    "    '점수' : [100, 90]\n",
    "}\n",
    "pd.DataFrame(data)"
   ]
  },
  {
   "cell_type": "code",
   "execution_count": null,
   "id": "9bf126d9",
   "metadata": {},
   "outputs": [],
   "source": []
  }
 ],
 "metadata": {
  "kernelspec": {
   "display_name": "Python 3 (ipykernel)",
   "language": "python",
   "name": "python3"
  },
  "language_info": {
   "codemirror_mode": {
    "name": "ipython",
    "version": 3
   },
   "file_extension": ".py",
   "mimetype": "text/x-python",
   "name": "python",
   "nbconvert_exporter": "python",
   "pygments_lexer": "ipython3",
   "version": "3.11.5"
  }
 },
 "nbformat": 4,
 "nbformat_minor": 5
}
