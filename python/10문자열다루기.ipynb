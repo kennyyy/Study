{
 "cells": [
  {
   "cell_type": "code",
   "execution_count": 16,
   "id": "fb5b49bc",
   "metadata": {},
   "outputs": [
    {
     "name": "stdout",
     "output_type": "stream",
     "text": [
      "P\n",
      "y\n",
      "n\n",
      "o\n"
     ]
    }
   ],
   "source": [
    "# 인덱싱\n",
    "\n",
    "i=\"Python\" # [p,y,t,h,o,n]\n",
    "print(i[0])\n",
    "print(i[1])\n",
    "print(i[-1])\n",
    "print(i[-2])"
   ]
  },
  {
   "cell_type": "code",
   "execution_count": 17,
   "id": "513eada2",
   "metadata": {},
   "outputs": [
    {
     "name": "stdout",
     "output_type": "stream",
     "text": [
      "P y t h o n "
     ]
    }
   ],
   "source": [
    "#문자열도 for문으로 출력 가능\n",
    "for k in i :\n",
    "    print(k, end = \" \")"
   ]
  },
  {
   "cell_type": "code",
   "execution_count": 20,
   "id": "aa03d329",
   "metadata": {},
   "outputs": [
    {
     "name": "stdout",
     "output_type": "stream",
     "text": [
      "hello\n",
      "python\n",
      "hello python\n",
      "hello python\n",
      "hello\n",
      "python\n",
      "pytho\n",
      "python\n",
      "hello pytho\n"
     ]
    }
   ],
   "source": [
    "# 문자열 슬라이싱\n",
    "\n",
    "s=\"hello python\"\n",
    "print(s[0:5])\n",
    "print(s[6:])\n",
    "print(s[:]) #문자열 전부\n",
    "print(s[0:5])\n",
    "print(s[6:12])\n",
    "\n",
    "\n",
    "print(s[-6:-1])\n",
    "print(s[-6:])\n",
    "print(s[:-1])\n",
    "\n"
   ]
  },
  {
   "cell_type": "code",
   "execution_count": 24,
   "id": "623e0dd5",
   "metadata": {},
   "outputs": [
    {
     "name": "stdout",
     "output_type": "stream",
     "text": [
      "hlopto\n",
      "lop\n",
      " yhn\n",
      "nhy le\n",
      "nohtyp olle\n"
     ]
    }
   ],
   "source": [
    "# 문자열 슬라이싱2 (step)\n",
    "\n",
    "s=\"hello python\"\n",
    "\n",
    "print(s[::2])\n",
    "print(s[2:7:2])\n",
    "print(s[5: :2])\n",
    "\n",
    "print(s[::-2])\n",
    "print(s[:0:-1])"
   ]
  },
  {
   "cell_type": "code",
   "execution_count": 46,
   "id": "ef319c9e",
   "metadata": {},
   "outputs": [
    {
     "name": "stdout",
     "output_type": "stream",
     "text": [
      "주민번호를 입력하세요 >123\n",
      "자릿수 확인좀\n"
     ]
    }
   ],
   "source": [
    "#실습\n",
    "#1.사용자에게 문자열 형태로 주민번호를 입력받아서\n",
    "#2.주민번호를 인덱싱해서 남자 or 여자 인지 판별하세요.\n",
    "\n",
    "cnt = 0\n",
    "num = input(\"주민번호를 입력하세요 >\")\n",
    "\n",
    "\n",
    "if len(num) < 8 or len(num) >=15 :\n",
    "    print(\"자릿수 확인좀\")\n",
    "else :        \n",
    "    if num[7] == \"1\" or num[7] == \"3\":\n",
    "        print(\"남자\")\n",
    "    elif num[7] == \"2\" or num[7] == \"4\":\n",
    "        print(\"여자\")\n",
    "\n",
    "\n",
    "\n",
    "    \n"
   ]
  },
  {
   "cell_type": "code",
   "execution_count": 1,
   "id": "48ae4fe7",
   "metadata": {},
   "outputs": [
    {
     "name": "stdout",
     "output_type": "stream",
     "text": [
      "아이디를 입력하세요> efefs2\n",
      "아이디는 : efefs2 입니다.\n"
     ]
    }
   ],
   "source": [
    "#문자열 다루는 함수\n",
    "\n",
    "#len()함수\n",
    "len(\"python\") #문자열의 길이를 반환\n",
    "len([1,2,3,4]) #리스트 길이를 반환\n",
    "len(range(1,1000))\n",
    "\n",
    "#아이디는 6글자 이상이어야 한다.\n",
    "ids = input(\"아이디를 입력하세요> \")\n",
    "\n",
    "if len(ids) < 6:\n",
    "    print(\"아이디는 6글자 이상이어야 합니다\")\n",
    "else :\n",
    "    print(f\"아이디는 : {ids} 입니다.\")"
   ]
  },
  {
   "cell_type": "code",
   "execution_count": 54,
   "id": "2321314c",
   "metadata": {},
   "outputs": [
    {
     "name": "stdout",
     "output_type": "stream",
     "text": [
      "h가 발견된 위치 :  0\n",
      "x가 발견된 위치 :  -1\n"
     ]
    }
   ],
   "source": [
    "#find는 문자를 찾아서 인덱스를 반환해주는 기능\n",
    "a = \"hello\".find(\"h\")\n",
    "print(\"h가 발견된 위치 : \", a)\n",
    "\n",
    "b= \"hello\".find(\"x\")\n",
    "print(\"x가 발견된 위치 : \", b) #없는 값이라면 -1 을 반환"
   ]
  },
  {
   "cell_type": "code",
   "execution_count": 55,
   "id": "339bd201",
   "metadata": {},
   "outputs": [
    {
     "data": {
      "text/plain": [
       "4"
      ]
     },
     "execution_count": 55,
     "metadata": {},
     "output_type": "execute_result"
    }
   ],
   "source": [
    "a = \"생각 이라는 생각은 생각할수록 자꾸 생각이 나는법\"\n",
    "a.count(\"생각\")"
   ]
  },
  {
   "cell_type": "code",
   "execution_count": 61,
   "id": "6dfe9eee",
   "metadata": {},
   "outputs": [
    {
     "data": {
      "text/plain": [
       "False"
      ]
     },
     "execution_count": 61,
     "metadata": {},
     "output_type": "execute_result"
    }
   ],
   "source": [
    "a = \"Hello Python\" #정확히 알파벳으로 이루어져 있다면 True (공백도 Flase사유)\n",
    "a.isalpha()\n",
    "\n",
    "b = \"123 123\"\n",
    "b.isdecimal() #정확히 숫자로 이루어져 있다면 True (공백도 Flase사유)"
   ]
  },
  {
   "cell_type": "code",
   "execution_count": 63,
   "id": "4bb7199e",
   "metadata": {},
   "outputs": [
    {
     "name": "stdout",
     "output_type": "stream",
     "text": [
      "HELLO PYTHON\n",
      "hello python\n"
     ]
    }
   ],
   "source": [
    "# upper, lower 전부 대문자, 소문자로 바꿔주는 문자열 함수\n",
    "a = \"Hello Python\"\n",
    "print(a.upper())\n",
    "print(a.lower())\n"
   ]
  },
  {
   "cell_type": "code",
   "execution_count": 68,
   "id": "3ed2cb5d",
   "metadata": {},
   "outputs": [
    {
     "name": "stdout",
     "output_type": "stream",
     "text": [
      "오늘 아침엔 coffee, 점심에도 coffee, 저녁엔 coffee를 먹지 말아야지\n",
      "오늘 아침엔 coffee, 점심에도 커피, 저녁엔 커피를 먹지 말아야지\n"
     ]
    }
   ],
   "source": [
    "#replace - 문자열 치환(대체됨)\n",
    "a = \"오늘 아침엔 커피, 점심에도 커피, 저녁엔 커피를 먹지 말아야지\"\n",
    "print(a.replace(\"커피\", \"coffee\"))\n",
    "print(a.replace(\"커피\", \"coffee\", 1)) #변경할 개수를 지정할 수 있다."
   ]
  },
  {
   "cell_type": "code",
   "execution_count": 72,
   "id": "42ae1909",
   "metadata": {},
   "outputs": [
    {
     "name": "stdout",
     "output_type": "stream",
     "text": [
      "['떡볶이', '김말이', '튀김', '닭강정', '먹고싶다']\n",
      "['떡볶', ' 김말', ' 튀김 닭강정 먹고싶다']\n"
     ]
    },
    {
     "data": {
      "text/plain": [
       "['서울 ', ' 대전 ', ' 대구 ', ' 부산']"
      ]
     },
     "execution_count": 72,
     "metadata": {},
     "output_type": "execute_result"
    }
   ],
   "source": [
    "#split - 특정구분자를 이용해서 문자열을 리스트 형태로 자름\n",
    "a = \"떡볶이 김말이 튀김 닭강정 먹고싶다\"\n",
    "print(a.split()) #기본값은 공백기준으로 자른다.\n",
    "print(a.split(\"이\"))\n",
    "\n",
    "b = \"서울 -> 대전 -> 대구 -> 부산\"\n",
    "b.split(\"->\")"
   ]
  },
  {
   "cell_type": "code",
   "execution_count": 8,
   "id": "fd144a44",
   "metadata": {},
   "outputs": [
    {
     "name": "stdout",
     "output_type": "stream",
     "text": [
      "1 1\n",
      "2 2\n",
      "22\n"
     ]
    }
   ],
   "source": []
  },
  {
   "cell_type": "code",
   "execution_count": 3,
   "id": "9f0fdd86",
   "metadata": {},
   "outputs": [],
   "source": [
    "str= \"long\""
   ]
  },
  {
   "cell_type": "code",
   "execution_count": 7,
   "id": "a9caba07",
   "metadata": {},
   "outputs": [
    {
     "name": "stdout",
     "output_type": "stream",
     "text": [
      "1\n",
      "2\n",
      "3\n",
      "4\n",
      "5\n"
     ]
    }
   ],
   "source": []
  },
  {
   "cell_type": "code",
   "execution_count": null,
   "id": "523b0189",
   "metadata": {},
   "outputs": [],
   "source": []
  }
 ],
 "metadata": {
  "kernelspec": {
   "display_name": "Python 3 (ipykernel)",
   "language": "python",
   "name": "python3"
  },
  "language_info": {
   "codemirror_mode": {
    "name": "ipython",
    "version": 3
   },
   "file_extension": ".py",
   "mimetype": "text/x-python",
   "name": "python",
   "nbconvert_exporter": "python",
   "pygments_lexer": "ipython3",
   "version": "3.11.5"
  }
 },
 "nbformat": 4,
 "nbformat_minor": 5
}
