{
 "cells": [
  {
   "cell_type": "code",
   "execution_count": 1,
   "id": "5840a226",
   "metadata": {},
   "outputs": [
    {
     "data": {
      "text/plain": [
       "100"
      ]
     },
     "execution_count": 1,
     "metadata": {},
     "output_type": "execute_result"
    }
   ],
   "source": [
    "a = 10 #변수 선언\n",
    "a\n",
    "\n",
    "a = 100 #값의 변경\n",
    "a"
   ]
  },
  {
   "cell_type": "code",
   "execution_count": 2,
   "id": "af034470",
   "metadata": {},
   "outputs": [
    {
     "data": {
      "text/plain": [
       "300"
      ]
     },
     "execution_count": 2,
     "metadata": {},
     "output_type": "execute_result"
    }
   ],
   "source": [
    "b = 200\n",
    "b\n",
    "\n",
    "result = a + b\n",
    "result"
   ]
  },
  {
   "cell_type": "code",
   "execution_count": 3,
   "id": "032f4e6f",
   "metadata": {},
   "outputs": [
    {
     "data": {
      "text/plain": [
       "'홍길동'"
      ]
     },
     "execution_count": 3,
     "metadata": {},
     "output_type": "execute_result"
    }
   ],
   "source": [
    "c = \"홍길동\" # 문자의 표현은 \"\" 혹은 ''로 한다.\n",
    "c"
   ]
  },
  {
   "cell_type": "code",
   "execution_count": 4,
   "id": "ceb877ff",
   "metadata": {},
   "outputs": [
    {
     "data": {
      "text/plain": [
       "605"
      ]
     },
     "execution_count": 4,
     "metadata": {},
     "output_type": "execute_result"
    }
   ],
   "source": [
    "c = 5\n",
    "result = a+b+c+result\n",
    "result"
   ]
  },
  {
   "cell_type": "code",
   "execution_count": 5,
   "id": "30a9a501",
   "metadata": {},
   "outputs": [
    {
     "name": "stdout",
     "output_type": "stream",
     "text": [
      "사과 싸과 미안\n"
     ]
    }
   ],
   "source": [
    "#변수의 식별자(변수 이름 규칙)\n",
    "#1a = 100 숫자 시작 x\n",
    "a1 = 100\n",
    "a2 = 200\n",
    "apple = \"사과\"\n",
    "Apple = \"싸과\"\n",
    "applE = \"미안\"\n",
    "print(apple, Apple, applE)\n",
    "\n",
    "my_birth = 2000817 # 공백은 _ 로 대체해야 한다\n",
    "\n"
   ]
  },
  {
   "cell_type": "code",
   "execution_count": 6,
   "id": "9aab4beb",
   "metadata": {},
   "outputs": [
    {
     "data": {
      "text/plain": [
       "'프린트'"
      ]
     },
     "execution_count": 6,
     "metadata": {},
     "output_type": "execute_result"
    }
   ],
   "source": [
    "#파이썬에 이미 지정된 기능을 변수처럼 사용할 순 있지만,\n",
    "#사용해버리면 기존 기능은 사용하지 못한다\n",
    "#pirnt = \"값을 저장\"\n",
    "#print(apple)\n",
    "\n",
    "#_를 붙여 사용하는 것을 권장함\n",
    "print_ = \"프린트\"\n",
    "print_ "
   ]
  },
  {
   "cell_type": "code",
   "execution_count": null,
   "id": "20c575a9",
   "metadata": {},
   "outputs": [],
   "source": [
    "##데이터 타입 int, float, string, bool"
   ]
  },
  {
   "cell_type": "code",
   "execution_count": 15,
   "id": "1c32d289",
   "metadata": {},
   "outputs": [
    {
     "data": {
      "text/plain": [
       "float"
      ]
     },
     "execution_count": 15,
     "metadata": {},
     "output_type": "execute_result"
    }
   ],
   "source": [
    "a = 100\n",
    "b = 3.141\n",
    "c = '홍길동'\n",
    "d = True\n",
    "\n",
    "type(b)"
   ]
  },
  {
   "cell_type": "code",
   "execution_count": 36,
   "id": "12006dee",
   "metadata": {},
   "outputs": [
    {
     "name": "stdout",
     "output_type": "stream",
     "text": [
      "\"hello\\world\"\n",
      "나는 너에게 \"어렵다\"\n",
      "안녕?~~?\n",
      " 잘가!!\n",
      "안녕?~~ \t잘가!!\n",
      "C:\\Users\\user\\Desktop\\course\n"
     ]
    }
   ],
   "source": [
    "print(\"\\\"hello\\\\world\\\"\")\n",
    "\n",
    "s1 = \"안녕하세요~~\"\n",
    "s2 = \"나는 너에게 \\\"어렵다\\\"\";\n",
    "#s3 = \"나는 너에게\"어렵다\" 라고 \"  같은 따음표 끼리는 오류이므로 \\\"\\\" 로 표시\n",
    "print(s2)\n",
    "\n",
    "s4 = \"안녕?~~?\\n 잘가!!\"\n",
    "print(s4)\n",
    "s5 = \"안녕?~~ \\t잘가!!\"\n",
    "print(s5)\n",
    "\n",
    "# \\U \\D \\c 이런 탈출문자는 \n",
    "# 존재하지 않음으로 \\\\를 사용해야 제데로 사용가능\n",
    "s6 = \"C:\\\\Users\\\\user\\\\Desktop\\\\course\"\n",
    "print(s6)"
   ]
  },
  {
   "cell_type": "code",
   "execution_count": 39,
   "id": "fb5627dd",
   "metadata": {},
   "outputs": [
    {
     "name": "stdout",
     "output_type": "stream",
     "text": [
      "여기서 \n",
      "적는 \n",
      "글은 \n",
      "그대로 나타납니다.\n"
     ]
    }
   ],
   "source": [
    "# 따음표 3개는 줄바꿈도 그대로 나타낸다.\n",
    "s7 = \"\"\"여기서 \n",
    "적는 \n",
    "글은 \n",
    "그대로 나타납니다.\"\"\"\n",
    "print(s7)"
   ]
  },
  {
   "cell_type": "code",
   "execution_count": 40,
   "id": "5d3d0821",
   "metadata": {},
   "outputs": [
    {
     "ename": "NameError",
     "evalue": "name 'dog' is not defined",
     "output_type": "error",
     "traceback": [
      "\u001b[1;31m---------------------------------------------------------------------------\u001b[0m",
      "\u001b[1;31mNameError\u001b[0m                                 Traceback (most recent call last)",
      "Cell \u001b[1;32mIn[40], line 1\u001b[0m\n\u001b[1;32m----> 1\u001b[0m \u001b[38;5;28mprint\u001b[39m(dog, cat, \u001b[38;5;124m\"\u001b[39m\u001b[38;5;124m좋아~~\u001b[39m\u001b[38;5;124m\"\u001b[39m, sep\u001b[38;5;241m=\u001b[39m\u001b[38;5;124m\"\u001b[39m\u001b[38;5;124m \u001b[39m\u001b[38;5;124m\"\u001b[39m)\n",
      "\u001b[1;31mNameError\u001b[0m: name 'dog' is not defined"
     ]
    }
   ],
   "source": []
  },
  {
   "cell_type": "code",
   "execution_count": null,
   "id": "d87cc577",
   "metadata": {},
   "outputs": [],
   "source": []
  }
 ],
 "metadata": {
  "kernelspec": {
   "display_name": "Python 3 (ipykernel)",
   "language": "python",
   "name": "python3"
  },
  "language_info": {
   "codemirror_mode": {
    "name": "ipython",
    "version": 3
   },
   "file_extension": ".py",
   "mimetype": "text/x-python",
   "name": "python",
   "nbconvert_exporter": "python",
   "pygments_lexer": "ipython3",
   "version": "3.11.5"
  }
 },
 "nbformat": 4,
 "nbformat_minor": 5
}
