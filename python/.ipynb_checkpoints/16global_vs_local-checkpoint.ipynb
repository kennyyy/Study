{
 "cells": [
  {
   "cell_type": "code",
   "execution_count": null,
   "id": "becb0ca1",
   "metadata": {},
   "outputs": [],
   "source": [
    "#전역변수 vs 지역변수\n",
    "# 전역변수 - 함수밖에서 만들어진 변수 전역변수(어디서든 사용가능)\n",
    "# 지역변수 - 함수안에서 만들어진 변수 지역변수 (함수안에서만 사용가능)"
   ]
  },
  {
   "cell_type": "code",
   "execution_count": 3,
   "id": "b2481dd9",
   "metadata": {},
   "outputs": [
    {
     "name": "stdout",
     "output_type": "stream",
     "text": [
      "홍길동\n"
     ]
    },
    {
     "ename": "NameError",
     "evalue": "name 'age' is not defined",
     "output_type": "error",
     "traceback": [
      "\u001b[1;31m---------------------------------------------------------------------------\u001b[0m",
      "\u001b[1;31mNameError\u001b[0m                                 Traceback (most recent call last)",
      "Cell \u001b[1;32mIn[3], line 7\u001b[0m\n\u001b[0;32m      5\u001b[0m     \u001b[38;5;28mprint\u001b[39m(name)\n\u001b[0;32m      6\u001b[0m func1()\n\u001b[1;32m----> 7\u001b[0m \u001b[38;5;28mprint\u001b[39m(age)\n",
      "\u001b[1;31mNameError\u001b[0m: name 'age' is not defined"
     ]
    }
   ],
   "source": [
    "name = \"홍길동\" #전역변수\n",
    " \n",
    "def func1() :\n",
    "    age = 10 # 지역 변수\n",
    "    print(name)\n",
    "func1()\n",
    "print(age) # err - 함수 밖에서 지역변수에는 접근이 안됨"
   ]
  },
  {
   "cell_type": "code",
   "execution_count": 6,
   "id": "62ffdae4",
   "metadata": {},
   "outputs": [
    {
     "name": "stdout",
     "output_type": "stream",
     "text": [
      "before 전역변수\n",
      "after 지역변수\n"
     ]
    }
   ],
   "source": [
    "#전역 변수와 동일한 이름의 지역변수가 사용되는 경우\n",
    "a = \"전역변수\"\n",
    "\n",
    "def func3() :\n",
    "    global a\n",
    "    #동일한 이름의 지역변수가 있을때, 전역변수를 참조 해야한다면,\n",
    "    #Gobal이후부터 전역변수가 참조 됩니다.\n",
    "    print(\"before\", a)\n",
    "    a = \"지역변수\"\n",
    "    print(\"after\", a)\n",
    "    \n",
    "func3()"
   ]
  },
  {
   "cell_type": "code",
   "execution_count": 10,
   "id": "f21abb13",
   "metadata": {},
   "outputs": [
    {
     "name": "stdout",
     "output_type": "stream",
     "text": [
      "15\n",
      "9\n"
     ]
    }
   ],
   "source": [
    "#함수의 기본값 매개변수\n",
    "# 파이썬에서는 매개변수의 기본값을 지정해서, 자주 바뀌지 않는 매개값은 기본값으로\n",
    "# 처리하여 생략이 가능하게 할 수 있다.\n",
    "# 시작 , 끝, 스탭, 매개변수 3개를 받아서 합계\n",
    "def calc(start, end, step = 1) :\n",
    "    sum_ = 0\n",
    "    for i in range(start, end+1, step):\n",
    "            sum_ += i\n",
    "    return sum_\n",
    "print(calc(1, 5))  #세번째 매개변수는 기본값이 적용\n",
    "print(calc(1, 5, 2)) "
   ]
  },
  {
   "cell_type": "code",
   "execution_count": 11,
   "id": "9e6e4647",
   "metadata": {},
   "outputs": [
    {
     "ename": "SyntaxError",
     "evalue": "non-default argument follows default argument (3316429269.py, line 3)",
     "output_type": "error",
     "traceback": [
      "\u001b[1;36m  Cell \u001b[1;32mIn[11], line 3\u001b[1;36m\u001b[0m\n\u001b[1;33m    def cal2(start = 1, end, step = 1) :\u001b[0m\n\u001b[1;37m                        ^\u001b[0m\n\u001b[1;31mSyntaxError\u001b[0m\u001b[1;31m:\u001b[0m non-default argument follows default argument\n"
     ]
    }
   ],
   "source": [
    "# 기본값을 가지는 함수 \n",
    "# 기본값을 가지는 매개변수는 일반매개변수보다 뒤쪽에 선언이 들어가야한다.\n",
    "\n",
    "def cal2(start = 1, end, step = 1) : #error \n",
    "    sum_ = 0\n",
    "    for i in range(start, end+1, step):\n",
    "            sum_ += i\n",
    "    return sum_\n",
    "print()"
   ]
  },
  {
   "cell_type": "code",
   "execution_count": null,
   "id": "299153a4",
   "metadata": {},
   "outputs": [],
   "source": [
    "#키워드 인수(매개변수)\n",
    "# 매개변수의 개수가 많아지면, 순서를 파악하는데 위치가 헷갈릴 가능성이 있습니다.\n",
    "\n",
    "# ex) def sign_user(name, id, pw, address, phone, gender, email, nickname)\n",
    "\n",
    "#파이썬에서는 순서와 무관하게 직접 지정해서 값을 전달하는 방법을 제공합니다."
   ]
  },
  {
   "cell_type": "code",
   "execution_count": 12,
   "id": "89655740",
   "metadata": {},
   "outputs": [
    {
     "data": {
      "text/plain": [
       "55"
      ]
     },
     "execution_count": 12,
     "metadata": {},
     "output_type": "execute_result"
    }
   ],
   "source": [
    "def calc3(start, end, step):\n",
    "    sum_ = 0\n",
    "    for i in range(start, end+1, step):\n",
    "        sum_+=i\n",
    "    return sum_\n",
    "\n",
    "calc3(step = 1, end = 10 , start = 1) #키워드 인수 순서 상관x 직접 지정"
   ]
  },
  {
   "cell_type": "code",
   "execution_count": 15,
   "id": "b7fd7353",
   "metadata": {},
   "outputs": [
    {
     "name": "stdout",
     "output_type": "stream",
     "text": [
      "13\n",
      "16\n"
     ]
    }
   ],
   "source": [
    "# 키워드 인수와 기본값 매개변수를 같이 사용할 수 있다.\n",
    "def calc4(a, b, c = 10):\n",
    "    return a+b+c\n",
    "\n",
    "print(calc4(a = 1, b = 2, c = 10))\n",
    "print(calc4(b=5, a=1))\n",
    "\n",
    "calc4(a=1 ,2 , 3) #err = 기본매개변수가, 키워드 인수보다 앞에 나와야합니다."
   ]
  },
  {
   "cell_type": "code",
   "execution_count": 16,
   "id": "08ae5878",
   "metadata": {},
   "outputs": [
    {
     "name": "stdout",
     "output_type": "stream",
     "text": [
      "ㅇㅇㅇ??안녕하세요^^!"
     ]
    }
   ],
   "source": [
    "#print()가 대표적인 기본값 매개변수, 키워드인수의 예시\n",
    "print(\"ㅇㅇㅇ\",\"안녕하세요\", sep= \"??\", end= \"^^!\")"
   ]
  },
  {
   "cell_type": "code",
   "execution_count": 17,
   "id": "3f2b52cf",
   "metadata": {},
   "outputs": [
    {
     "name": "stdout",
     "output_type": "stream",
     "text": [
      "Python 3.11.5\n"
     ]
    }
   ],
   "source": [
    "!python --version"
   ]
  },
  {
   "cell_type": "code",
   "execution_count": null,
   "id": "90870bfc",
   "metadata": {},
   "outputs": [],
   "source": []
  }
 ],
 "metadata": {
  "kernelspec": {
   "display_name": "Python 3 (ipykernel)",
   "language": "python",
   "name": "python3"
  },
  "language_info": {
   "codemirror_mode": {
    "name": "ipython",
    "version": 3
   },
   "file_extension": ".py",
   "mimetype": "text/x-python",
   "name": "python",
   "nbconvert_exporter": "python",
   "pygments_lexer": "ipython3",
   "version": "3.11.5"
  }
 },
 "nbformat": 4,
 "nbformat_minor": 5
}
