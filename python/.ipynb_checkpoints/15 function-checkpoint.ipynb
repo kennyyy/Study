{
 "cells": [
  {
   "cell_type": "code",
   "execution_count": null,
   "id": "145223ae",
   "metadata": {},
   "outputs": [],
   "source": [
    "#함수\n",
    "#반복되는 프로그램 코드에 묶어 놓은 것\n",
    "\n",
    "#def 함수명() :\n",
    "    \n",
    "#함수를 정의했다면,사용하는 과정은 호출 이라고합니다.\n",
    "#함수를 호출하려면, 호출문보다는 상단부에 정의가 되어있어야 합니다."
   ]
  },
  {
   "cell_type": "code",
   "execution_count": 5,
   "id": "c0fe77c7",
   "metadata": {},
   "outputs": [
    {
     "name": "stdout",
     "output_type": "stream",
     "text": [
      "합계 55\n",
      "합계 55\n",
      "합계 55\n"
     ]
    }
   ],
   "source": [
    "#~1~10까지의 합\n",
    "def calc():\n",
    "    sum_ = 0\n",
    "\n",
    "    for i in range(1,11):\n",
    "        sum_+= i\n",
    "    print(\"합계\" ,sum_)\n"
   ]
  },
  {
   "cell_type": "code",
   "execution_count": 6,
   "id": "d6b0a1d7",
   "metadata": {},
   "outputs": [
    {
     "name": "stdout",
     "output_type": "stream",
     "text": [
      "합계 55\n",
      "합계 55\n",
      "합계 55\n"
     ]
    }
   ],
   "source": [
    "#함수의 호출(재사용이 가능)\n",
    "calc()\n",
    "calc()\n",
    "calc()"
   ]
  },
  {
   "cell_type": "code",
   "execution_count": 14,
   "id": "fe162a8f",
   "metadata": {},
   "outputs": [
    {
     "name": "stdout",
     "output_type": "stream",
     "text": [
      "합계 55\n",
      "합계 5050\n",
      "합계 55\n"
     ]
    }
   ],
   "source": [
    "# 매개변수\n",
    "# 함수가 전달받은 인자값\n",
    "# 어떤 값을 전달받아서, 그 값까지의 합계를 구하는 함수\n",
    "# 인자와 매개변수 값을 일치시켜야 한다.\n",
    "\n",
    "def calc2(x):\n",
    "    sum_ = 0\n",
    "\n",
    "    for i in range(1,x+1):\n",
    "        sum_+= i\n",
    "    print(\"합계\" ,sum_)\n",
    "a = 10\n",
    "calc2(10)\n",
    "calc2(100)\n",
    "calc2(a)"
   ]
  },
  {
   "cell_type": "code",
   "execution_count": null,
   "id": "f74e808c",
   "metadata": {},
   "outputs": [],
   "source": [
    "#함수의 리턴(return)\n",
    "#함수를 호출했을 때, 호출문장으로 돌려주는 값\n",
    "# 있을 수도 있고, 없을수도 있습니다."
   ]
  },
  {
   "cell_type": "code",
   "execution_count": 15,
   "id": "2c82e9a2",
   "metadata": {},
   "outputs": [
    {
     "name": "stdout",
     "output_type": "stream",
     "text": [
      "3\n",
      "3\n"
     ]
    }
   ],
   "source": [
    "#매개변수 2개 받아서, 두 수의 합을 돌려주는(return) 함수\n",
    "\n",
    "def my_add(a,b):\n",
    "    result = a +b\n",
    "    return result # 이 값은 함수의 호출문장으로 돌아갑니다.\n",
    "\n",
    "print(my_add(1,2))\n",
    "add=my_add(1,2)\n",
    "print(add)"
   ]
  },
  {
   "cell_type": "code",
   "execution_count": 22,
   "id": "cc228a4c",
   "metadata": {},
   "outputs": [
    {
     "name": "stdout",
     "output_type": "stream",
     "text": [
      "공통내장함수 :  5\n",
      "내가만든함수 :  5\n"
     ]
    }
   ],
   "source": [
    "# len함수 따라만들기\n",
    "\n",
    "def length(a) : #a는 리스트일것이다\n",
    "    cnt = 0\n",
    "    for i in a :\n",
    "        cnt+=1\n",
    "    return cnt\n",
    "\n",
    "a = [\"1\", \"2\", \"3\", \"4\", \"5\"]\n",
    "print(\"공통내장함수 : \", len(a))\n",
    "print(\"내가만든함수 : \",length(a))"
   ]
  },
  {
   "cell_type": "code",
   "execution_count": 24,
   "id": "cc211d7e",
   "metadata": {},
   "outputs": [
    {
     "name": "stdout",
     "output_type": "stream",
     "text": [
      "(30, -10, 200, 0.5)\n",
      "(30, -10, 200, 0.5)\n"
     ]
    }
   ],
   "source": [
    "##리턴의 다양한 모형 - 리턴값은 무엇이든 될 수 있다.\n",
    "##리턴은 두번째 의미 - 함수의 종료\n",
    "##리턴 이후에는 실핼될 문장을 적지 않습니다.\n",
    "def operation1(a,b):\n",
    "    return a+b , a-b, a*b, a/b\n",
    "\n",
    "def operation2(a,b):\n",
    "    x = a+b , a-b, a*b, a/b\n",
    "    return x\n",
    "\n",
    "print(operation1(10, 20))\n",
    "print(operation2(10, 20))"
   ]
  },
  {
   "cell_type": "code",
   "execution_count": 25,
   "id": "c804eebb",
   "metadata": {},
   "outputs": [
    {
     "name": "stdout",
     "output_type": "stream",
     "text": [
      "4\n"
     ]
    }
   ],
   "source": [
    "# 조건에 따라서 다른값을 반환 - 항상 큰 숫자에서 뺄셈\n",
    "\n",
    "def sum_(a, b): \n",
    "    if a>b :\n",
    "        return a - b\n",
    "    else :\n",
    "        return b - a\n",
    "\n",
    "print(sum_(10,6))\n",
    "    "
   ]
  },
  {
   "cell_type": "code",
   "execution_count": null,
   "id": "d8c90d7f",
   "metadata": {},
   "outputs": [],
   "source": [
    "#실습\n",
    "#1. 자연수 n을 매개변수로 받아서, n의 약수의 합을 반환하는 함수\n",
    "#2. 자연수 2개를 매개변수로 받아서, 두 수 사이의 합게를 반환하는 함수\n",
    "#3. 자연수 n을 받아서 약수를 리스트로 반환하는 함수"
   ]
  },
  {
   "cell_type": "code",
   "execution_count": 1,
   "id": "5def7066",
   "metadata": {},
   "outputs": [],
   "source": [
    "def fun1(x):\n",
    "    sum_ = 0\n",
    "    for i in range(1,x+1):\n",
    "        if x % i == 0:\n",
    "            sum_+=i\n",
    "    return sum_\n"
   ]
  },
  {
   "cell_type": "code",
   "execution_count": 2,
   "id": "ab078a39",
   "metadata": {},
   "outputs": [],
   "source": [
    "def fun2(x, y):\n",
    "    sum_ = 0\n",
    "    for i in range(x, y+1):\n",
    "        sum_+=i\n",
    "    return sum_"
   ]
  },
  {
   "cell_type": "code",
   "execution_count": 3,
   "id": "b9a3e371",
   "metadata": {},
   "outputs": [],
   "source": [
    "def fun3(x):\n",
    "    a = []\n",
    "    for i in range(1,x+1):\n",
    "        if x % i == 0:\n",
    "            a.append(i)\n",
    "    return a"
   ]
  },
  {
   "cell_type": "code",
   "execution_count": 4,
   "id": "e7cdd43a",
   "metadata": {},
   "outputs": [
    {
     "name": "stdout",
     "output_type": "stream",
     "text": [
      "실습 1번 >15\n",
      "15 약수의 합은 : 24\n",
      "실습 2번 >1 10\n",
      "1 , 10 사이의 합계 : 55\n",
      "실습 3번 >15\n",
      "15의 약수 : [1, 3, 5, 15]\n"
     ]
    }
   ],
   "source": [
    "n1 = int(input(\"실습 1번 >\"))\n",
    "print(f\"{n1} 약수의 합은 : {fun1(n1)}\")\n",
    "\n",
    "n2, n3 = input(\"실습 2번 >\").split()\n",
    "print(f\"{n2} , {n3} 사이의 합계 : {fun2(int(n2),int(n3))}\")\n",
    "\n",
    "n4 = int(input(\"실습 3번 >\"))\n",
    "print(f\"{n4}의 약수 : {fun3(n4)}\")"
   ]
  },
  {
   "cell_type": "code",
   "execution_count": 39,
   "id": "ed1b9d90",
   "metadata": {},
   "outputs": [
    {
     "name": "stdout",
     "output_type": "stream",
     "text": [
      "1 1\n",
      "0\n"
     ]
    }
   ],
   "source": [
    "a, b = map(int, input(\"\").split())\n",
    "n= (a-1) + (b-1) * a \n",
    "print(n)"
   ]
  },
  {
   "cell_type": "code",
   "execution_count": null,
   "id": "6b322266",
   "metadata": {},
   "outputs": [],
   "source": []
  }
 ],
 "metadata": {
  "kernelspec": {
   "display_name": "Python 3 (ipykernel)",
   "language": "python",
   "name": "python3"
  },
  "language_info": {
   "codemirror_mode": {
    "name": "ipython",
    "version": 3
   },
   "file_extension": ".py",
   "mimetype": "text/x-python",
   "name": "python",
   "nbconvert_exporter": "python",
   "pygments_lexer": "ipython3",
   "version": "3.11.5"
  }
 },
 "nbformat": 4,
 "nbformat_minor": 5
}
