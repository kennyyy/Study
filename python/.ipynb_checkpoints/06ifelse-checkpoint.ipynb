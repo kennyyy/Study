{
 "cells": [
  {
   "cell_type": "code",
   "execution_count": 4,
   "id": "18c5cba8",
   "metadata": {},
   "outputs": [
    {
     "name": "stdout",
     "output_type": "stream",
     "text": [
      "사과는 몇개 있습니까? : 10\n",
      "사과는 10개 있습니다.\n",
      "프로그램 정상종료\n"
     ]
    }
   ],
   "source": [
    "apple = int(input(\"사과는 몇개 있습니까? : \"))\n",
    "\n",
    "if apple >= 0:\n",
    "    print(f\"사과는 {apple}개 있습니다.\")\n",
    "else :\n",
    "    print(\"사과는 0개 이하입니다.\")\n",
    "    print(\"ㅇㅅㅇ\")\n",
    "\n",
    "print(\"프로그램 정상종료\")"
   ]
  },
  {
   "cell_type": "code",
   "execution_count": 5,
   "id": "bf20b690",
   "metadata": {},
   "outputs": [
    {
     "name": "stdout",
     "output_type": "stream",
     "text": [
      "나이를 입력하세요 : 5\n",
      "아동\n"
     ]
    }
   ],
   "source": [
    "age = int(input(\"나이를 입력하세요 : \"))\n",
    "\n",
    "#if문은 조건식을 거쳐 위에서부터 순차적으로 조건식을 실행하여 참여부를 확인\n",
    "#조건문이 실행되면 그 조건문의 범위를 실행하고 나머지는 건너뛴다.\n",
    "if age >= 20:\n",
    "    print(\"성인이군요!\")\n",
    "elif age >= 17 :\n",
    "    print(\"고등학생이네요\")\n",
    "elif age >= 14 :\n",
    "    print(\"중학생이네요\")\n",
    "elif age >= 7 :\n",
    "    print(\"초등학생이네요\")\n",
    "else :\n",
    "    print(\"아동\")"
   ]
  },
  {
   "cell_type": "code",
   "execution_count": 18,
   "id": "fabf2a33",
   "metadata": {},
   "outputs": [
    {
     "name": "stdout",
     "output_type": "stream",
     "text": [
      "두 정수를 입력하세요 :100 10\n",
      "x :100 이 큰 수입니다.\n"
     ]
    }
   ],
   "source": [
    "# 큰수 찾기\n",
    "x = int(input(\"x의 정수를 입력하세요 :\"))\n",
    "y = int(input(\"y의 정수를 입력하세요 :\"))\n",
    "\n",
    "if x > y :\n",
    "    print(f\"x :{x} 이 큰 수입니다.\" )\n",
    "elif x < y :\n",
    "    print(f\"y :{y} 이 큰 수 입니다.\")\n",
    "else :\n",
    "    print(\"x는 y와 같은수 입니다.\")"
   ]
  },
  {
   "cell_type": "code",
   "execution_count": 33,
   "id": "3fe56296",
   "metadata": {},
   "outputs": [
    {
     "name": "stdout",
     "output_type": "stream",
     "text": [
      "정수를 입력하세요 :27\n",
      "3의 배수입니다.\n"
     ]
    }
   ],
   "source": [
    "#3의배수 판별\n",
    "num = int(input(\"정수를 입력하세요 :\"))\n",
    "\n",
    "if num%3==0 :\n",
    "    print(\"3의 배수입니다.\")\n",
    "else :\n",
    "    print(\"3의 배수가 아닙니다.\")"
   ]
  },
  {
   "cell_type": "code",
   "execution_count": 35,
   "id": "b55b4a39",
   "metadata": {},
   "outputs": [
    {
     "name": "stdout",
     "output_type": "stream",
     "text": [
      "신장을 입력하세요> 140\n",
      "중량을 입력하세요> 49\n",
      "몸무게 미달\n"
     ]
    }
   ],
   "source": [
    "## 중첩 if문장 영역에 따라 들여쓰기 맞추는게 중요하다\n",
    "\n",
    "cm = int(input(\"신장을 입력하세요> \"))\n",
    "if cm >= 140 :\n",
    "    kg = int(input(\"중량을 입력하세요> \"))\n",
    "    if kg >= 50 :\n",
    "        print(\"성공입니다! 놀이기구 탑승 가능!\")\n",
    "    else :\n",
    "        print(\"몸무게 미달\")\n",
    "        \n",
    "else :\n",
    "    print(\"키 미달\")"
   ]
  },
  {
   "cell_type": "code",
   "execution_count": 5,
   "id": "610e18dd",
   "metadata": {},
   "outputs": [
    {
     "name": "stdout",
     "output_type": "stream",
     "text": [
      "점수를 입력하세요> 89\n",
      "B학점\n"
     ]
    }
   ],
   "source": [
    "point = int(input(\"점수를 입력하세요> \"))\n",
    "\n",
    "if point >= 90 :\n",
    "    if point >= 95 :\n",
    "        print(\"A+학점\")\n",
    "    else:\n",
    "        print(\"A학점\")\n",
    "    \n",
    "elif point >= 80 :\n",
    "    print(\"B학점\")\n",
    "    \n",
    "elif point >= 70 :\n",
    "    print(\"C학점\")\n",
    "    \n",
    "else :\n",
    "    print(\"F학점\")"
   ]
  },
  {
   "cell_type": "code",
   "execution_count": 9,
   "id": "dfc71518",
   "metadata": {
    "scrolled": true
   },
   "outputs": [
    {
     "name": "stdout",
     "output_type": "stream",
     "text": [
      "정수를 입력하세요> 1\n",
      "홀수입니다.\n"
     ]
    }
   ],
   "source": [
    "num = int(input(\"정수를 입력하세요> \"))\n",
    "\n",
    "if num > 0 :\n",
    "    if num % 2 == 0 :\n",
    "        print(\"짝수입니다\")\n",
    "    else :\n",
    "        print(\"홀수입니다.\")\n",
    "\n",
    "elif num < 0 :\n",
    "    print(\"음수입니다.\")\n",
    "    \n",
    "else :\n",
    "    print(\"0입니다\")\n"
   ]
  },
  {
   "cell_type": "code",
   "execution_count": 26,
   "id": "4989ad6a",
   "metadata": {},
   "outputs": [
    {
     "name": "stdout",
     "output_type": "stream",
     "text": [
      "1\n",
      "2\n",
      "3\n",
      "4\n",
      "5\n",
      "6\n",
      "7\n",
      "8\n",
      "9\n",
      "10\n"
     ]
    }
   ],
   "source": []
  },
  {
   "cell_type": "code",
   "execution_count": null,
   "id": "7398b46a",
   "metadata": {},
   "outputs": [],
   "source": []
  },
  {
   "cell_type": "code",
   "execution_count": null,
   "id": "f476525f",
   "metadata": {},
   "outputs": [],
   "source": []
  },
  {
   "cell_type": "code",
   "execution_count": null,
   "id": "ae7a1520",
   "metadata": {},
   "outputs": [],
   "source": []
  },
  {
   "cell_type": "code",
   "execution_count": 21,
   "id": "7db5c425",
   "metadata": {},
   "outputs": [
    {
     "name": "stdout",
     "output_type": "stream",
     "text": [
      "정수를 입력하세요5\n",
      "     *\n",
      "    ***\n",
      "   *****\n",
      "  *******\n",
      " *********\n"
     ]
    }
   ],
   "source": []
  },
  {
   "cell_type": "code",
   "execution_count": null,
   "id": "5f428d75",
   "metadata": {},
   "outputs": [],
   "source": []
  }
 ],
 "metadata": {
  "kernelspec": {
   "display_name": "Python 3 (ipykernel)",
   "language": "python",
   "name": "python3"
  },
  "language_info": {
   "codemirror_mode": {
    "name": "ipython",
    "version": 3
   },
   "file_extension": ".py",
   "mimetype": "text/x-python",
   "name": "python",
   "nbconvert_exporter": "python",
   "pygments_lexer": "ipython3",
   "version": "3.11.5"
  }
 },
 "nbformat": 4,
 "nbformat_minor": 5
}
