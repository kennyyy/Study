{
 "cells": [
  {
   "cell_type": "code",
   "execution_count": null,
   "id": "c6d09176",
   "metadata": {},
   "outputs": [],
   "source": [
    "#사전(dictionary)\n",
    "\n",
    "#사전은 키:값의 쌍으로 저장하는 형태\n",
    "#{}로 생성합니다.\n",
    "#특징: 검색에 있어서 빠릅니다."
   ]
  },
  {
   "cell_type": "code",
   "execution_count": null,
   "id": "ac7d96fa",
   "metadata": {},
   "outputs": [],
   "source": [
    "students = {\"갱얼쥐\" : \"홍길동\", \"고양이\" : \"김철수\", \"토끼\" :\"김영희\"}\n",
    "\n",
    "type(students)\n",
    "len(students)"
   ]
  },
  {
   "cell_type": "code",
   "execution_count": null,
   "id": "187c207e",
   "metadata": {},
   "outputs": [],
   "source": [
    "#dict의 사용방법"
   ]
  },
  {
   "cell_type": "code",
   "execution_count": null,
   "id": "5313cce0",
   "metadata": {},
   "outputs": [],
   "source": [
    "#key는 고유합니다. 값을 찾거나, 변경하거나, 삭제하는 작업이 전부 key로 일어납니다.\n",
    "\n",
    "students[\"갱얼쥐\"]\n",
    "#studnets[갱얼쥐] #err\n",
    "a = students[\"고양이\"]\n",
    "a"
   ]
  },
  {
   "cell_type": "code",
   "execution_count": null,
   "id": "0be8a484",
   "metadata": {},
   "outputs": [],
   "source": [
    "#key의 유뮤를 확인할 때는 in 문장합니다.\n",
    "\n",
    "\"갱얼쥐\" in students # T\n",
    "\"강아쥐\" in students # F"
   ]
  },
  {
   "cell_type": "code",
   "execution_count": null,
   "id": "b6dab83d",
   "metadata": {},
   "outputs": [],
   "source": [
    "#사전에 값을 추가하기\n",
    "my_dict = {\"apple\" : \"사과\", \"peach\" : \"복숭아\", \"book\" : \"책\"}\n",
    "\n",
    "my_dict[\"melon\"] = \"초록색과일\"\n",
    "\n",
    "my_dict"
   ]
  },
  {
   "cell_type": "code",
   "execution_count": null,
   "id": "299863cb",
   "metadata": {},
   "outputs": [],
   "source": [
    "#사전에 값을 변경하기\n",
    "my_dict[\"melon\"] = \"뮤직듣는곳\"\n",
    "my_dict"
   ]
  },
  {
   "cell_type": "code",
   "execution_count": null,
   "id": "f1c645b2",
   "metadata": {},
   "outputs": [],
   "source": [
    "#사전에 값을 삭제하기 = del(키)\n",
    "if \"melon\" in my_dict :\n",
    "    print(\"키가 있습니다.\")\n",
    "    del(my_dict[\"melon\"])\n",
    "my_dict"
   ]
  },
  {
   "cell_type": "code",
   "execution_count": null,
   "id": "a7b45174",
   "metadata": {},
   "outputs": [],
   "source": [
    "# 사전의 반복\n",
    "#키를 뽑아서 나열해 줍니다.\n",
    "for i in my_dict.keys():\n",
    "    print(f\" 키는 {i}, 값은 {my_dict[i]}\")\n",
    "#키의 값을 뽑아서 나열해 줍니다.\n",
    "for i in my_dict.values():\n",
    "    print(f\" 값은 {i}\")\n",
    "\n"
   ]
  },
  {
   "cell_type": "code",
   "execution_count": null,
   "id": "b5096b40",
   "metadata": {},
   "outputs": [],
   "source": [
    "for i, j in my_dict.items() :\n",
    "    print(i , j)\n",
    "print(my_dict.items())\n",
    "\n",
    "for i in my_dict.items():\n",
    "    print(i[0])\n",
    "for i in my_dict.items():\n",
    "    print(i[1])\n",
    "    \n",
    "for i in my_dict:\n",
    "    print(i) #key"
   ]
  },
  {
   "cell_type": "code",
   "execution_count": null,
   "id": "a09dc334",
   "metadata": {},
   "outputs": [],
   "source": [
    "# 빈 사전 만들기\n",
    "dict_ = {}\n",
    "\n",
    "dict_\n",
    "\n",
    "# 빈 사전 만들기\n",
    "dict_ = dict()"
   ]
  },
  {
   "cell_type": "code",
   "execution_count": null,
   "id": "184227a3",
   "metadata": {},
   "outputs": [],
   "source": [
    "### 실습\n",
    "\n",
    "#1.eng 이름으로 빈 사전을 하나 생성합니다.\n",
    "#2. 사용자가 '그만' 입력할 때 까지 영단어와 뜻을 입력받습니다.\n",
    "#3. 영단어를 key, 뜻을 values 빈 사전에 하나씩 추가하면 됩니다.\n",
    "#4. '그만'을 입력하면 사전 내부 데이터를 반복문으로 출력.\n",
    "eng = {}\n",
    "\n",
    "print(\"영단어장 만들기\")\n",
    "print(\"-종료하려면 입력창에 '그만'을 입력하세요\")\n",
    "while True:\n",
    "    a= input(\"영단어> \")\n",
    "    if(a == \"그만\"):\n",
    "        print(\"종료\")\n",
    "        print(\"\")\n",
    "        break\n",
    "    b= input(\"뜻> \")\n",
    "    eng[a] = b;\n",
    "    print(\"단어 입력완료\")\n",
    "    \n",
    "    \n",
    "    \n",
    "    \n",
    "print(\"***오늘 공부한 단어***\")\n",
    "for i, j in eng.items():\n",
    "    print(f\"{i} : {j}\")\n",
    "    \n",
    "print(\"***오늘 공부한 단어***\")\n",
    "for i in eng.keys():\n",
    "    print(f\"{i} : {eng[i]}\")\n",
    "\n",
    "print(\"***오늘 공부한 단어***\")\n",
    "for i in eng.items():\n",
    "    print(f\"{i[0]} : {i[1]}\")\n",
    "    "
   ]
  },
  {
   "cell_type": "code",
   "execution_count": null,
   "id": "3e7e8da9",
   "metadata": {},
   "outputs": [],
   "source": [
    "### 실습\n",
    "# 사전을 사용한 아이디 비밀번호 확인\n",
    "# key는 id, value는 pw로 사용\n",
    "# 1.입력받은 아이디가 사전에 입력된 key인지 먼저 확인합니다.\n",
    "# 2. 사전에 존재하면 비밀번호를 입력받아서, 해당아이디와 비밀번호가 정확히 일치하는지\n",
    "# 확인한 후에, \"로그인 성공\" 출력하고 반복문을 탈출\n",
    "# 3. 사전에 아이디가 없다면, \"없는 아이디 입니다\" 출력"
   ]
  },
  {
   "cell_type": "code",
   "execution_count": null,
   "id": "6c3cd25a",
   "metadata": {},
   "outputs": [],
   "source": [
    "idpw = {\"aaa\" : \"abc123\", \"bbb\" : \"abc456\", \"ccc\" : \"abc789\"}\n",
    "\n",
    "while True :\n",
    "    \n",
    "    print(\"---로그인---\")\n",
    "    id = input(\"아이디 : \")\n",
    "    \n",
    "    if id in idpw.keys():\n",
    "        pw = input(\"비밀번호 : \")\n",
    "        if idpw[id] == pw :\n",
    "            print(\"로그인 성공\")\n",
    "            break\n",
    "        else :\n",
    "            print(\"비밀번호가 틀렸습니다.\")\n",
    "    else :\n",
    "        print(\"없는 아이디입니다.\")\n",
    "    "
   ]
  },
  {
   "cell_type": "code",
   "execution_count": 9,
   "id": "6b8fff89",
   "metadata": {},
   "outputs": [
    {
     "name": "stdout",
     "output_type": "stream",
     "text": [
      "3 2 1\n",
      "-1\n"
     ]
    }
   ],
   "source": [
    "\n",
    "\n",
    "List<Object>"
   ]
  },
  {
   "cell_type": "code",
   "execution_count": 15,
   "id": "10227c87",
   "metadata": {},
   "outputs": [
    {
     "data": {
      "text/plain": [
       "2"
      ]
     },
     "execution_count": 15,
     "metadata": {},
     "output_type": "execute_result"
    }
   ],
   "source": [
    "a = [[2], [1]]\n",
    "a[0][0]"
   ]
  },
  {
   "cell_type": "code",
   "execution_count": null,
   "id": "af6a38d8",
   "metadata": {},
   "outputs": [],
   "source": []
  }
 ],
 "metadata": {
  "kernelspec": {
   "display_name": "Python 3 (ipykernel)",
   "language": "python",
   "name": "python3"
  },
  "language_info": {
   "codemirror_mode": {
    "name": "ipython",
    "version": 3
   },
   "file_extension": ".py",
   "mimetype": "text/x-python",
   "name": "python",
   "nbconvert_exporter": "python",
   "pygments_lexer": "ipython3",
   "version": "3.11.5"
  }
 },
 "nbformat": 4,
 "nbformat_minor": 5
}
