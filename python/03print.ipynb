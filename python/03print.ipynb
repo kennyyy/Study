{
 "cells": [
  {
   "cell_type": "code",
   "execution_count": 12,
   "id": "e3091c97",
   "metadata": {},
   "outputs": [
    {
     "name": "stdout",
     "output_type": "stream",
     "text": [
      "멍멍이고양이내친구\n",
      "홍길동님이 멍멍이\n"
     ]
    }
   ],
   "source": [
    "dog = '멍멍이'\n",
    "cat = '고양이'\n",
    "pig = '내친구'\n",
    "\n",
    "# sep속성 분리된 변수 사이에 포함할 문자를 지정한다.\n",
    "print(dog, cat, pig, sep = \"\")\n"
   ]
  },
  {
   "cell_type": "code",
   "execution_count": 15,
   "id": "8c28aa37",
   "metadata": {
    "scrolled": true
   },
   "outputs": [
    {
     "name": "stdout",
     "output_type": "stream",
     "text": [
      "멍멍이 고양이 내친구\n",
      "이 줄은 개행이 진행 됬나요\n"
     ]
    }
   ],
   "source": [
    "# end속성 출력문 맨 끝에 포함할 문자를 지정한다.\n",
    "print(dog, cat, pig, end= \"\\n\")\n",
    "print(\"이 줄은 개행이 진행 됬나요\")"
   ]
  },
  {
   "cell_type": "code",
   "execution_count": 1,
   "id": "f93ae0e1",
   "metadata": {},
   "outputs": [
    {
     "name": "stdout",
     "output_type": "stream",
     "text": [
      "내친구!!안녕!!잘가내일봐^^dd\n"
     ]
    }
   ],
   "source": [
    "f = \"내친구\"\n",
    "h = \"안녕\"\n",
    "b = \"잘가내일봐\"\n",
    "#end가 기본값이면 자동 줄바꿈으로 설정된다.\n",
    "print(f, h, b, sep = \"!!\" ,end=\"^^\")"
   ]
  },
  {
   "cell_type": "code",
   "execution_count": 13,
   "id": "4b03c9c6",
   "metadata": {},
   "outputs": [
    {
     "name": "stdout",
     "output_type": "stream",
     "text": [
      "오늘은 2023년 10월 18일     2023\n",
      "오늘은 2023년 10월 18일     2023\n",
      "오늘은 18년 2023월 10.00일     2023\n"
     ]
    }
   ],
   "source": [
    "#format함수\n",
    "year = 2023\n",
    "month = 10\n",
    "day=18\n",
    "\n",
    "print(\"오늘은 {}년 {}월 {}일\".format(year,month,day), year, sep=\"     \")\n",
    "print(\"오늘은 {1}년 {2}월 {0}일\".format(day, year, month), year, sep=\"     \")\n",
    "print(\"오늘은 {:d}년 {:d}월 {:.2f}일\".format(day, year, month), year, sep=\"     \")\n"
   ]
  },
  {
   "cell_type": "code",
   "execution_count": 29,
   "id": "b3f9f591",
   "metadata": {},
   "outputs": [
    {
     "name": "stdout",
     "output_type": "stream",
     "text": [
      "안녕은 영어로 hello \n",
      "원주율은 3.14, 진실은 영어로 True\n"
     ]
    }
   ],
   "source": [
    "# f-string\n",
    "a1 = 'hello'\n",
    "a2 = 3.14\n",
    "a3 = True\n",
    "\n",
    "print(f\"안녕은 영어로 {a1} \")\n",
    "print(f\"원주율은 {a2}, 진실은 영어로 {a3}\")"
   ]
  },
  {
   "cell_type": "code",
   "execution_count": 30,
   "id": "87bfa3ad",
   "metadata": {},
   "outputs": [
    {
     "name": "stdout",
     "output_type": "stream",
     "text": [
      "안녕안녕안녕\n"
     ]
    }
   ],
   "source": [
    "print(\"안녕\"*3)"
   ]
  },
  {
   "cell_type": "code",
   "execution_count": null,
   "id": "3d73610d",
   "metadata": {},
   "outputs": [],
   "source": []
  }
 ],
 "metadata": {
  "kernelspec": {
   "display_name": "Python 3 (ipykernel)",
   "language": "python",
   "name": "python3"
  },
  "language_info": {
   "codemirror_mode": {
    "name": "ipython",
    "version": 3
   },
   "file_extension": ".py",
   "mimetype": "text/x-python",
   "name": "python",
   "nbconvert_exporter": "python",
   "pygments_lexer": "ipython3",
   "version": "3.11.5"
  }
 },
 "nbformat": 4,
 "nbformat_minor": 5
}
