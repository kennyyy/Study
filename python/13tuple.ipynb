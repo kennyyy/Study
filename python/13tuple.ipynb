{
 "cells": [
  {
   "cell_type": "code",
   "execution_count": 3,
   "id": "dc9385d6",
   "metadata": {},
   "outputs": [
    {
     "name": "stdout",
     "output_type": "stream",
     "text": [
      "0\n",
      "1\n",
      "0\n",
      "7\n",
      "7\n",
      "3\n",
      "6\n",
      "9\n",
      "6\n",
      "9\n",
      "5\n"
     ]
    }
   ],
   "source": [
    "# 튜플의 생성\n",
    "\n",
    "points = (87,23,43,55,30)\n",
    "for i in points:\n",
    "    print(i)"
   ]
  },
  {
   "cell_type": "code",
   "execution_count": null,
   "id": "14236e73",
   "metadata": {},
   "outputs": [],
   "source": [
    "#튜플은 소괄호 생략이 가능함\n",
    "tu = 1,2,3,4,5,6,7,8,9\n",
    "\n",
    "#튜플은 리스트와 마찬가지로 인덱싱, 슬라이싱 가능함\n",
    "\n",
    "tu[0] #인덱싱\n",
    "tu[1]\n",
    "\n",
    "tu[0:3] #슬라이싱\n",
    "\n",
    "#튜플은 값의 변경이 불가능합니다\n",
    "\n",
    "#tu[0] = 123# 값의 변경이 안됩니다\n",
    "#tu.appent(100) # err\n",
    "#tu.insert(3. 100) #erre\n",
    "\n",
    "#index count은 지원함\n",
    "tu.index(3)\n",
    "tu.count(3)"
   ]
  },
  {
   "cell_type": "code",
   "execution_count": 16,
   "id": "d7f893c4",
   "metadata": {},
   "outputs": [
    {
     "name": "stdout",
     "output_type": "stream",
     "text": [
      "[1, 2, 3, 4, 5]\n",
      "(1, 2, 3, 4, 5)\n"
     ]
    }
   ],
   "source": [
    "#리스트와 튜플의 상호형변환\n",
    "\n",
    "\n",
    "#리스트 => 튜플\n",
    "a = [1,2,3,4,5]\n",
    "\n",
    "print(a)\n",
    "\n",
    "b= tuple(a)\n",
    "print(b)\n",
    "\n",
    "# 튜플 => 리스트\n",
    "c = list(b)\n",
    "\n",
    "print(c)"
   ]
  },
  {
   "cell_type": "code",
   "execution_count": 17,
   "id": "fd49c237",
   "metadata": {},
   "outputs": [
    {
     "name": "stdout",
     "output_type": "stream",
     "text": [
      "[1, 2, 3, 4, 5]\n"
     ]
    }
   ],
   "source": []
  },
  {
   "cell_type": "code",
   "execution_count": null,
   "id": "4b9e7e5a",
   "metadata": {},
   "outputs": [],
   "source": []
  },
  {
   "cell_type": "code",
   "execution_count": 12,
   "id": "2757c7b7",
   "metadata": {},
   "outputs": [
    {
     "data": {
      "text/plain": [
       "'010-7736-9695'"
      ]
     },
     "execution_count": 12,
     "metadata": {},
     "output_type": "execute_result"
    }
   ],
   "source": [
    "\n"
   ]
  },
  {
   "cell_type": "code",
   "execution_count": null,
   "id": "a6446a66",
   "metadata": {},
   "outputs": [],
   "source": []
  }
 ],
 "metadata": {
  "kernelspec": {
   "display_name": "Python 3 (ipykernel)",
   "language": "python",
   "name": "python3"
  },
  "language_info": {
   "codemirror_mode": {
    "name": "ipython",
    "version": 3
   },
   "file_extension": ".py",
   "mimetype": "text/x-python",
   "name": "python",
   "nbconvert_exporter": "python",
   "pygments_lexer": "ipython3",
   "version": "3.11.5"
  }
 },
 "nbformat": 4,
 "nbformat_minor": 5
}
