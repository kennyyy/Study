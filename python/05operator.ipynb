{
 "cells": [
  {
   "cell_type": "code",
   "execution_count": 1,
   "id": "c2eed77a",
   "metadata": {},
   "outputs": [
    {
     "name": "stdout",
     "output_type": "stream",
     "text": [
      "2.0\n",
      "2\n",
      "1\n",
      "8\n"
     ]
    }
   ],
   "source": [
    "#산술연산자\n",
    "print(10/5)\n",
    "print(10//5)\n",
    "print(10%3)\n",
    "print(2**3)"
   ]
  },
  {
   "cell_type": "code",
   "execution_count": 13,
   "id": "5d194494",
   "metadata": {},
   "outputs": [
    {
     "name": "stdout",
     "output_type": "stream",
     "text": [
      "8\n",
      "5\n",
      "1\n",
      "10\n",
      "1\n"
     ]
    }
   ],
   "source": [
    "#대입연산자\n",
    "a= 5\n",
    "b = 5\n",
    "\n",
    "# 복합대입연산자\n",
    "a+=3\n",
    "print(a)\n",
    "\n",
    "a -=3\n",
    "print(a)\n",
    "\n",
    "a//= 3\n",
    "print(a)\n",
    "\n",
    "a *=10\n",
    "print(a)\n",
    "\n",
    "a %=3\n",
    "print(a)"
   ]
  },
  {
   "cell_type": "code",
   "execution_count": 2,
   "id": "e0552d92",
   "metadata": {},
   "outputs": [
    {
     "data": {
      "text/plain": [
       "0"
      ]
     },
     "execution_count": 2,
     "metadata": {},
     "output_type": "execute_result"
    }
   ],
   "source": [
    "# 대입 ,복합 대입 연산자 참/거짓으로 반환\n",
    "x = 10\n",
    "\n",
    "x -= 3\n",
    "x *= 7\n",
    "x //=2\n",
    "x %=3"
   ]
  },
  {
   "cell_type": "code",
   "execution_count": 31,
   "id": "989208d8",
   "metadata": {},
   "outputs": [
    {
     "name": "stdout",
     "output_type": "stream",
     "text": [
      "True\n",
      "True\n",
      "False\n",
      "True\n"
     ]
    }
   ],
   "source": [
    "#비교 연산자 참/거짓으로 반환\n",
    "\n",
    "a = 10\n",
    "b = 5\n",
    "print(a<b | a>b)\n",
    "print(a % b == 0)\n",
    "print(a % b > 1)\n",
    "\n",
    "print(a % 2 == 0) #짝수\n",
    "print(a % 2 != 0) #홀수\n"
   ]
  },
  {
   "cell_type": "code",
   "execution_count": 34,
   "id": "6d4b44cb",
   "metadata": {},
   "outputs": [
    {
     "data": {
      "text/plain": [
       "False"
      ]
     },
     "execution_count": 34,
     "metadata": {},
     "output_type": "execute_result"
    }
   ],
   "source": [
    "# 논리연산자\n",
    "a = 10\n",
    "b = 5\n",
    "(a >= 10) & (b==5) # 연산자 우선순위 때문에 소괄호로 먼저 계산하게 해야한다.\n",
    "(a >= 10) & (b==10)\n",
    "\n",
    "(a >= 10) | (b==5)\n",
    "(a != 10) | (b==10)\n",
    "\n"
   ]
  },
  {
   "cell_type": "code",
   "execution_count": 41,
   "id": "670fef65",
   "metadata": {},
   "outputs": [
    {
     "name": "stdout",
     "output_type": "stream",
     "text": [
      "참\n",
      "참임\n"
     ]
    }
   ],
   "source": [
    "a = 5\n",
    "if a >= 5 and a <=10 :\n",
    "    print(\"참\")\n",
    "else : \n",
    "    print(\"거짓\")\n",
    "\n",
    "b = 5\n",
    "if b == 2 or b!=2 :\n",
    "    print(\"참임\")"
   ]
  },
  {
   "cell_type": "code",
   "execution_count": null,
   "id": "ec0a43ee",
   "metadata": {},
   "outputs": [],
   "source": [
    "#단축평가 연산 and 와 or\n",
    "#논리 연산 수행시에 좌항 결과가 전체결과로 이미 판명이 난 경우\n",
    "# 우측을 실행을하지 않고 무시한다.\n",
    "c = 0\n",
    "\n",
    "#10/ 0 == 0 #0을 나눌순 없다\n",
    "\n",
    "if c == 0 or 10 /c == 0:\n",
    "    print(\"통과?\")\n",
    "    \n",
    "if( c!=0 and 10/c == 0) :\n",
    "    print(\"통과\")"
   ]
  },
  {
   "cell_type": "code",
   "execution_count": null,
   "id": "d304c628",
   "metadata": {},
   "outputs": [],
   "source": [
    "#not은 !와 같은 부정의 의미\n",
    "not True\n",
    "not False\n",
    "\n",
    "a = True\n",
    "not a\n",
    "\n",
    "apple = 10\n",
    "if not apple < 0 :\n",
    "    print(\"참\")"
   ]
  },
  {
   "cell_type": "code",
   "execution_count": 14,
   "id": "f116dbeb",
   "metadata": {},
   "outputs": [
    {
     "name": "stdout",
     "output_type": "stream",
     "text": [
      "사과의 개수를 입력하세요: 0\n",
      "사과의 개수는 0 개 입니다\n"
     ]
    }
   ],
   "source": [
    "apple = int(input(\"사과의 개수를 입력하세요: \"))\n",
    "if apple >= 0 and apple <= 10 :\n",
    "    print(\"사과의 개수는\", apple, \"개 입니다\")\n"
   ]
  },
  {
   "cell_type": "code",
   "execution_count": null,
   "id": "f825fd10",
   "metadata": {},
   "outputs": [],
   "source": []
  },
  {
   "cell_type": "code",
   "execution_count": null,
   "id": "c76511d6",
   "metadata": {},
   "outputs": [],
   "source": []
  }
 ],
 "metadata": {
  "kernelspec": {
   "display_name": "Python 3 (ipykernel)",
   "language": "python",
   "name": "python3"
  },
  "language_info": {
   "codemirror_mode": {
    "name": "ipython",
    "version": 3
   },
   "file_extension": ".py",
   "mimetype": "text/x-python",
   "name": "python",
   "nbconvert_exporter": "python",
   "pygments_lexer": "ipython3",
   "version": "3.11.5"
  }
 },
 "nbformat": 4,
 "nbformat_minor": 5
}
