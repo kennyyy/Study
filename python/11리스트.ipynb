{
 "cells": [
  {
   "cell_type": "code",
   "execution_count": 3,
   "id": "c76c3f48",
   "metadata": {},
   "outputs": [
    {
     "name": "stdout",
     "output_type": "stream",
     "text": [
      "5\n"
     ]
    }
   ],
   "source": [
    "# 리스트 [데이터] or list()\n",
    "#여려개의 값을 한번에 저장하기 위한 파이썬의 자료형\n",
    "# 1. 리스트를 이용하면 여러 개 값을 저장\n",
    "# 2. 인덱스는 0부터 시작\n",
    "# 3. 리스트는 [ ]를 이용해 만듬\n",
    "# 4. [ ]안에 [ ]를 넣으면 차원이 증가\n",
    "# • 변수명 = [ ... ] : 1차원 리스트\n",
    "# • 변수명 = [ [ ... ], ... ] : 2차원 리스트\n",
    "# • 변수명 = [ [ [ ... ], ... ], ... ] : 3차원 리스트\n"
   ]
  },
  {
   "cell_type": "code",
   "execution_count": 5,
   "id": "b66405aa",
   "metadata": {},
   "outputs": [
    {
     "name": "stdout",
     "output_type": "stream",
     "text": [
      "a\n",
      "b\n",
      "c\n",
      "d\n",
      "e\n"
     ]
    }
   ],
   "source": [
    "#리스트를 만드는 방법 1\n",
    "x = ['a', 'b', 'c', 'd', 'e']\n",
    "type(x) # 리스트\n",
    "\n",
    "for i in x : #리스트는 순서를 가져서 반복이 가능하다.\n",
    "    print(i)"
   ]
  },
  {
   "cell_type": "code",
   "execution_count": 8,
   "id": "1c0af56d",
   "metadata": {},
   "outputs": [
    {
     "data": {
      "text/plain": [
       "[1, 2, 3, 4, 5, 6, 7, 8, 9, 10]"
      ]
     },
     "execution_count": 8,
     "metadata": {},
     "output_type": "execute_result"
    }
   ],
   "source": [
    "#리스트를 만드는 방법 2\n",
    "x = list(range(1,11)) \n",
    "x"
   ]
  },
  {
   "cell_type": "code",
   "execution_count": 12,
   "id": "977cf908",
   "metadata": {},
   "outputs": [
    {
     "name": "stdout",
     "output_type": "stream",
     "text": [
      "[1, 2, 3, 4, 5, 6, 7, 8, 9, 10]\n"
     ]
    },
    {
     "data": {
      "text/plain": [
       "[3, 5, 7]"
      ]
     },
     "execution_count": 12,
     "metadata": {},
     "output_type": "execute_result"
    }
   ],
   "source": [
    "#리스트의 인덱싱과 슬라이싱\n",
    "print(x)\n",
    "x[0]\n",
    "x[-1]\n",
    "\n",
    "x[0:]\n",
    "x[2:5]\n",
    "\n",
    "x[2:8:2]"
   ]
  },
  {
   "cell_type": "code",
   "execution_count": 17,
   "id": "7a329240",
   "metadata": {},
   "outputs": [
    {
     "name": "stdout",
     "output_type": "stream",
     "text": [
      "햄버거짜장면피자\n",
      "['짬뽕', '짜장면', '치킨', '탕수육', '볶음밥']\n"
     ]
    }
   ],
   "source": [
    "#리스트의 값 가져오기\n",
    "\n",
    "foods = [\"햄버거\" ,\"짜장면\", \"치킨\", \"탕수육\", \"피자\"]\n",
    "a = foods[0]\n",
    "b = foods[1]\n",
    "c = foods[4]\n",
    "\n",
    "print(a+b+c)\n",
    "\n",
    "foods[0] = \"짬뽕\"\n",
    "foods[4] = \"볶음밥\"\n",
    "print(foods)"
   ]
  },
  {
   "cell_type": "code",
   "execution_count": 19,
   "id": "8c186efc",
   "metadata": {},
   "outputs": [
    {
     "name": "stdout",
     "output_type": "stream",
     "text": [
      "짬뽕 ['짜장면', '치킨', '탕수육', '볶음밥']\n"
     ]
    },
    {
     "data": {
      "text/plain": [
       "['짜장면', '치킨']"
      ]
     },
     "execution_count": 19,
     "metadata": {},
     "output_type": "execute_result"
    }
   ],
   "source": [
    "#구조분해할당\n",
    "a, b, c, d, e = foods #좌항의 변수와 리스트 요소의 개수가 일치하면,\n",
    "#한번에 저장 가능\n",
    "\n",
    "x, *y = foods # *y나머지 전부를 리스트형태로 구조분해할당\n",
    "print(x, y)\n",
    "\n",
    "x, *y, z, k = foods # 중간에 있는 값을 리스트형태로 구조분해할당\n",
    "y"
   ]
  },
  {
   "cell_type": "code",
   "execution_count": 24,
   "id": "f9792115",
   "metadata": {},
   "outputs": [
    {
     "name": "stdout",
     "output_type": "stream",
     "text": [
      "['짬뽕', '짜장면', '치킨', '탕수육', '볶음밥']\n",
      "5\n",
      "[1, 2, 3, 4]\n"
     ]
    }
   ],
   "source": [
    "#2차원 리스트\n",
    "print(foods)\n",
    "foods[1][0]\n",
    "foods[1][1]\n",
    "foods[1][2]\n",
    "\n",
    "numbers_2d = [[1,2,3,4,5],[6,7,8,9,0],[10,20,30,40,50]]\n",
    "print(numbers_2d[0][4])\n",
    "print(numbers_2d[0][:4])"
   ]
  },
  {
   "cell_type": "code",
   "execution_count": 25,
   "id": "2e2f6401",
   "metadata": {},
   "outputs": [
    {
     "name": "stdout",
     "output_type": "stream",
     "text": [
      "[1, 2, 3, 4, 5, 10, 12]\n"
     ]
    }
   ],
   "source": [
    "#리스트 연산\n",
    "\n",
    "list2 = [1,2,3,4,5]\n",
    "list3 = [10, 12]\n",
    "print(list2 + list3) #끝에 더해서 새로운 리스트를 생성\n",
    "#list2 * list3 # 곱셈은 err\n",
    "print(list2 * 3) # 숫자를 이용해서는 곱셈이 가능하다.\n"
   ]
  },
  {
   "cell_type": "code",
   "execution_count": 27,
   "id": "cd25a5d3",
   "metadata": {},
   "outputs": [
    {
     "name": "stdout",
     "output_type": "stream",
     "text": [
      "합계 : 500833, 평균 : 1499.5\n"
     ]
    }
   ],
   "source": [
    "#실습\n",
    "# 이 리스트의 숫자 값의 합계와 평균을 출력.\n",
    "\n",
    "sum = 0\n",
    "avg = 0\n",
    "\n",
    "points = list(range(1000, 2000, 3))\n",
    "\n",
    "for i in points:\n",
    "    sum+=i\n",
    "\n",
    "avg = sum/len(points)\n",
    "\n",
    "print(f\"합계 : {sum}, 평균 : {avg}\")\n",
    "    "
   ]
  },
  {
   "cell_type": "code",
   "execution_count": null,
   "id": "75db966e",
   "metadata": {},
   "outputs": [],
   "source": []
  },
  {
   "cell_type": "code",
   "execution_count": null,
   "id": "b4339b04",
   "metadata": {},
   "outputs": [],
   "source": []
  },
  {
   "cell_type": "code",
   "execution_count": null,
   "id": "ba3eed4a",
   "metadata": {},
   "outputs": [],
   "source": []
  }
 ],
 "metadata": {
  "kernelspec": {
   "display_name": "Python 3 (ipykernel)",
   "language": "python",
   "name": "python3"
  },
  "language_info": {
   "codemirror_mode": {
    "name": "ipython",
    "version": 3
   },
   "file_extension": ".py",
   "mimetype": "text/x-python",
   "name": "python",
   "nbconvert_exporter": "python",
   "pygments_lexer": "ipython3",
   "version": "3.11.5"
  }
 },
 "nbformat": 4,
 "nbformat_minor": 5
}
