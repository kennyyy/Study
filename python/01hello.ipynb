{
 "cells": [
  {
   "cell_type": "markdown",
   "id": "e4a67c91",
   "metadata": {},
   "source": [
    "#######마크다운 영역 : 내가 정리하고싶은 내용 적어놓는 곳\n",
    "단축키\n",
    "- a : 위에 셀\n",
    "- b : 아래에 셀\n",
    "- dd : 셀 삭제하기\n",
    "- m / y : 코드 / 마크다운\n",
    "- ctrl + enter : 해당코드 실행\n",
    "- shift + 엔터 : 해당코드 실행 다음으로 이동"
   ]
  },
  {
   "cell_type": "code",
   "execution_count": 1,
   "id": "7d60ad4b",
   "metadata": {},
   "outputs": [
    {
     "name": "stdout",
     "output_type": "stream",
     "text": [
      "Hello world\n"
     ]
    }
   ],
   "source": [
    "print(\"Hello world\")"
   ]
  },
  {
   "cell_type": "code",
   "execution_count": 14,
   "id": "4605e196",
   "metadata": {},
   "outputs": [
    {
     "data": {
      "text/plain": [
       "int"
      ]
     },
     "execution_count": 14,
     "metadata": {},
     "output_type": "execute_result"
    }
   ],
   "source": [
    "a= 10\n",
    "type(a)"
   ]
  },
  {
   "cell_type": "code",
   "execution_count": null,
   "id": "b3e18562",
   "metadata": {},
   "outputs": [],
   "source": [
    "# print(\"주석문이란\") ctrl + / 는 빠른주석 단축키"
   ]
  },
  {
   "cell_type": "code",
   "execution_count": 27,
   "id": "781d8695",
   "metadata": {},
   "outputs": [
    {
     "data": {
      "text/plain": [
       "'hello'"
      ]
     },
     "execution_count": 27,
     "metadata": {},
     "output_type": "execute_result"
    }
   ],
   "source": [
    "# 주피터노트북은은 print가 없어도 항상 맨마지막 문장을 실행한다.\n",
    "1+1\n",
    "\"hello\""
   ]
  },
  {
   "cell_type": "code",
   "execution_count": 33,
   "id": "5d021f90",
   "metadata": {},
   "outputs": [
    {
     "ename": "IndentationError",
     "evalue": "unexpected indent (2154641350.py, line 3)",
     "output_type": "error",
     "traceback": [
      "\u001b[1;36m  Cell \u001b[1;32mIn[33], line 3\u001b[1;36m\u001b[0m\n\u001b[1;33m    print(\"이거 이상하네\")\u001b[0m\n\u001b[1;37m    ^\u001b[0m\n\u001b[1;31mIndentationError\u001b[0m\u001b[1;31m:\u001b[0m unexpected indent\n"
     ]
    }
   ],
   "source": [
    "print(\"헬로\");\n",
    "#print(\"월드\");\n",
    "    print(\"이거 이상하네\")\n",
    "#파이썬에서 들여쓰기 허용하지 않음\n",
    "Print(\"이것도 이상하네\")\n",
    "# 모든프로그램 언어는 대소문자를 정확히 구분함."
   ]
  },
  {
   "cell_type": "code",
   "execution_count": null,
   "id": "521c3181",
   "metadata": {},
   "outputs": [],
   "source": []
  }
 ],
 "metadata": {
  "kernelspec": {
   "display_name": "Python 3 (ipykernel)",
   "language": "python",
   "name": "python3"
  },
  "language_info": {
   "codemirror_mode": {
    "name": "ipython",
    "version": 3
   },
   "file_extension": ".py",
   "mimetype": "text/x-python",
   "name": "python",
   "nbconvert_exporter": "python",
   "pygments_lexer": "ipython3",
   "version": "3.11.5"
  }
 },
 "nbformat": 4,
 "nbformat_minor": 5
}
