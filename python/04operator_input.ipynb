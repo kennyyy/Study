{
 "cells": [
  {
   "cell_type": "code",
   "execution_count": 2,
   "id": "c7e15d65",
   "metadata": {},
   "outputs": [
    {
     "name": "stdout",
     "output_type": "stream",
     "text": [
      "오늘 저녁은치킨이다!와 맛있겠다ㅇㅇ\n"
     ]
    }
   ],
   "source": [
    "#문자열 연산\n",
    "\n",
    "s1 = \"오늘 저녁은\"\n",
    "s2 = \"치킨이다\"\n",
    "\n",
    "s3 = s1 + s2\n",
    "s3\n",
    "#문자열+정수는 사용할 수 없다.\n",
    "print(s1 + s2 + \"!와 맛있겠다\" + \"ㅇㅇ\")"
   ]
  },
  {
   "cell_type": "code",
   "execution_count": 1,
   "id": "6a6c139c",
   "metadata": {},
   "outputs": [
    {
     "data": {
      "text/plain": [
       "'winner winner chicken dinnerwinner winner chicken dinnerwinner winner chicken dinner'"
      ]
     },
     "execution_count": 1,
     "metadata": {},
     "output_type": "execute_result"
    }
   ],
   "source": [
    "#파이썬에서는 문자열 곱셈도 가능\n",
    "a = \"winner winner chicken dinner\"\n",
    "a*3"
   ]
  },
  {
   "cell_type": "markdown",
   "id": "8d969e4f",
   "metadata": {},
   "source": [
    "####형변환\n",
    "- int()\n",
    "- float()\n",
    "- str ()\n",
    "- bool()\n"
   ]
  },
  {
   "cell_type": "code",
   "execution_count": 2,
   "id": "c7187ada",
   "metadata": {},
   "outputs": [
    {
     "name": "stdout",
     "output_type": "stream",
     "text": [
      "홍길동님의 점수는 90 입니다\n"
     ]
    }
   ],
   "source": [
    "name = \"홍길동\"\n",
    "point = 90\n",
    "print(name + \"님의 점수는 \" + str(point) + \" 입니다\")"
   ]
  },
  {
   "cell_type": "code",
   "execution_count": 3,
   "id": "9baf42e3",
   "metadata": {},
   "outputs": [
    {
     "data": {
      "text/plain": [
       "True"
      ]
     },
     "execution_count": 3,
     "metadata": {},
     "output_type": "execute_result"
    }
   ],
   "source": [
    "str(point)\n",
    "point=float(point);\n",
    "int(3.14)\n",
    "bool(\"x\")\n",
    "#int(name) #바뀔 수 없는 값은 형변환시에 에러가 발생함."
   ]
  },
  {
   "cell_type": "code",
   "execution_count": 4,
   "id": "5af2ac7c",
   "metadata": {},
   "outputs": [
    {
     "data": {
      "text/plain": [
       "True"
      ]
     },
     "execution_count": 4,
     "metadata": {},
     "output_type": "execute_result"
    }
   ],
   "source": [
    "bool(\"x\")"
   ]
  },
  {
   "cell_type": "code",
   "execution_count": 5,
   "id": "18417ffb",
   "metadata": {},
   "outputs": [
    {
     "data": {
      "text/plain": [
       "3"
      ]
     },
     "execution_count": 5,
     "metadata": {},
     "output_type": "execute_result"
    }
   ],
   "source": [
    "x = \"3.14\"\n",
    "y = int(float(x))\n",
    "y"
   ]
  },
  {
   "cell_type": "code",
   "execution_count": 6,
   "id": "dcc6cfd7",
   "metadata": {},
   "outputs": [
    {
     "name": "stdout",
     "output_type": "stream",
     "text": [
      "정수를 입력해주세요123\n",
      "너 별명이 뭐니?별명\n",
      "너의 별명은 : 별명\n"
     ]
    }
   ],
   "source": [
    "a1 = int(input(\"정수를 입력해주세요\"))\n",
    "\n",
    "a2 = input(\"너 별명이 뭐니?\")\n",
    "print(\"너의 별명은 : \" + a2)"
   ]
  },
  {
   "cell_type": "code",
   "execution_count": 12,
   "id": "7da2d34a",
   "metadata": {},
   "outputs": [
    {
     "name": "stdout",
     "output_type": "stream",
     "text": [
      "숫자입력>12\n",
      "숫자입력>12\n",
      "입력받은 숫자는 :  24\n"
     ]
    }
   ],
   "source": [
    "n1 = int(input(\"숫자입력>\"))\n",
    "n2 = int(input(\"숫자입력>\"))\n",
    "print(\"입력받은 숫자는 : \", n1+n2)"
   ]
  },
  {
   "cell_type": "code",
   "execution_count": 27,
   "id": "97924bee",
   "metadata": {},
   "outputs": [
    {
     "name": "stdout",
     "output_type": "stream",
     "text": [
      "이름을 입력하세요 : 홍길동\n",
      "나이를 입력하세요 :27\n",
      "---------------------\n",
      "이름 : 홍길동\n",
      "나이 : 27 세\n",
      "출생년도 : 1997 년\n"
     ]
    }
   ],
   "source": [
    "name = input(\"이름을 입력하세요 : \")\n",
    "age =int(input(\"나이를 입력하세요 :\"))\n",
    "year = 2023-age+1\n",
    "print(\"---------------------\")\n",
    "print(f\"이름 : {name}\")\n",
    "print(f\"나이 : {age} 세\")\n",
    "print(f\"출생년도 : {year} 년\")"
   ]
  },
  {
   "cell_type": "code",
   "execution_count": 30,
   "id": "677e02dd",
   "metadata": {},
   "outputs": [
    {
     "name": "stdout",
     "output_type": "stream",
     "text": [
      "음식의 가격 : 4000\n",
      "사람 수 : 10\n",
      "--------------------\n",
      "가게에 지불해야 할 금액 40000 원\n"
     ]
    }
   ],
   "source": [
    "food = int(input(\"음식의 가격 : \"))\n",
    "person = int(input(\"사람 수 : \"))\n",
    "price = food * person\n",
    "print(\"-\"*20)\n",
    "print(\"가게에 지불해야 할 금액 :\", price, \"원\")"
   ]
  },
  {
   "cell_type": "code",
   "execution_count": 33,
   "id": "ba2f0de5",
   "metadata": {},
   "outputs": [
    {
     "data": {
      "text/plain": [
       "9"
      ]
     },
     "execution_count": 33,
     "metadata": {},
     "output_type": "execute_result"
    }
   ],
   "source": [
    "3**2"
   ]
  },
  {
   "cell_type": "code",
   "execution_count": null,
   "id": "748cb8c9",
   "metadata": {},
   "outputs": [],
   "source": []
  },
  {
   "cell_type": "code",
   "execution_count": null,
   "id": "d34e35c1",
   "metadata": {},
   "outputs": [],
   "source": []
  },
  {
   "cell_type": "code",
   "execution_count": null,
   "id": "c68a8423",
   "metadata": {},
   "outputs": [],
   "source": []
  },
  {
   "cell_type": "code",
   "execution_count": null,
   "id": "86759901",
   "metadata": {},
   "outputs": [],
   "source": []
  },
  {
   "cell_type": "code",
   "execution_count": null,
   "id": "49144795",
   "metadata": {},
   "outputs": [],
   "source": []
  }
 ],
 "metadata": {
  "kernelspec": {
   "display_name": "Python 3 (ipykernel)",
   "language": "python",
   "name": "python3"
  },
  "language_info": {
   "codemirror_mode": {
    "name": "ipython",
    "version": 3
   },
   "file_extension": ".py",
   "mimetype": "text/x-python",
   "name": "python",
   "nbconvert_exporter": "python",
   "pygments_lexer": "ipython3",
   "version": "3.11.5"
  }
 },
 "nbformat": 4,
 "nbformat_minor": 5
}
