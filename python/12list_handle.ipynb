{
 "cells": [
  {
   "cell_type": "code",
   "execution_count": 14,
   "id": "d69e2a9e",
   "metadata": {},
   "outputs": [
    {
     "data": {
      "text/plain": [
       "True"
      ]
     },
     "execution_count": 14,
     "metadata": {},
     "output_type": "execute_result"
    }
   ],
   "source": [
    "#리스트의 함수들\n",
    "points = [99,17,87,100,55,100,99,100,22]\n",
    "\n",
    "#탐색과 정렬\n",
    "# index - 해당값을 찾아서 발견한 인덱스를 반환\n",
    "\n",
    "#points.index(2)# 찾는 값이 없으면 에러\n",
    "#points.index(55) #4번째 인덱스에 있음\n",
    "points.index(100)#가장 처음 탐색되는 값 3\n",
    "points.index(100, 4)# 100을 찾는데, 4번째 인덱스부터 검색\n",
    "\n",
    "#count - 빈도수 확인\n",
    "points.count(100)#100은 3개 있습니다.\n",
    "\n",
    "#in 문장\n",
    "101 in points #이터러블한 값중에 있다면 True, 없으면 False "
   ]
  },
  {
   "cell_type": "code",
   "execution_count": 17,
   "id": "8aa32940",
   "metadata": {},
   "outputs": [
    {
     "name": "stdout",
     "output_type": "stream",
     "text": [
      "[100, 100, 100, 99, 99, 87, 55, 22, 17]\n",
      "[17, 22, 55, 87, 99, 99, 100, 100, 100]\n"
     ]
    }
   ],
   "source": [
    "#sort정렬, reverse\n",
    "points.sort(reverse=True) #리스트 자체값이 정렬됨 \n",
    "print(points)\n",
    "\n",
    "points.reverse()#거꾸로\n",
    "print(points)\n",
    "\n"
   ]
  },
  {
   "cell_type": "code",
   "execution_count": 19,
   "id": "8fff8826",
   "metadata": {},
   "outputs": [
    {
     "data": {
      "text/plain": [
       "[1, 'ssss', 2, 3, 4, 100]"
      ]
     },
     "execution_count": 19,
     "metadata": {},
     "output_type": "execute_result"
    }
   ],
   "source": [
    "#리스트에 값을 추가 insert, append\n",
    "\n",
    "nums= [1,2,3,4]\n",
    "nums.append(100) #끝에 추가\n",
    "nums\n",
    "\n",
    "nums.insert(1, \"ssss\") # 1번째 인덱스, ssss추가\n",
    "nums"
   ]
  },
  {
   "cell_type": "code",
   "execution_count": null,
   "id": "262f3f3f",
   "metadata": {},
   "outputs": [],
   "source": [
    "#삭제 remove, 공용함수del , clear, pop"
   ]
  },
  {
   "cell_type": "code",
   "execution_count": 20,
   "id": "01c69b2e",
   "metadata": {},
   "outputs": [
    {
     "name": "stdout",
     "output_type": "stream",
     "text": [
      "[1, 'ssss', 2, 3, 4]\n"
     ]
    }
   ],
   "source": [
    "nums.remove(100)\n",
    "print(nums) # 첫번째 발견되는 100을 삭제"
   ]
  },
  {
   "cell_type": "code",
   "execution_count": 25,
   "id": "8151e615",
   "metadata": {},
   "outputs": [
    {
     "data": {
      "text/plain": [
       "[3, 4]"
      ]
     },
     "execution_count": 25,
     "metadata": {},
     "output_type": "execute_result"
    }
   ],
   "source": [
    "# del은 인덱스 번호로 삭제\n",
    "del(nums[0])\n",
    "nums\n",
    "\n",
    "#clear는 리스트를 비웁니다.\n",
    "nums.clear()\n",
    "nums"
   ]
  },
  {
   "cell_type": "code",
   "execution_count": 27,
   "id": "e7e9a95b",
   "metadata": {},
   "outputs": [
    {
     "name": "stdout",
     "output_type": "stream",
     "text": [
      "먹고 싶은 음식을 입력하세요>\n",
      "그만 입력하려면\"그만\" 이라고 쓰세요 \n",
      "> 햄버거\n",
      "> 피자\n",
      "> 국밥\n",
      "> 치킨\n",
      "> 버네이너\n",
      "> 그만\n",
      "['햄버거', '피자', '국밥', '치킨', '버네이너']\n"
     ]
    }
   ],
   "source": [
    "#실습\n",
    "#1.빈리스트를 생성합니다.\n",
    "#2.사용자가 그만이라고 입력할떄가지 음식이름을 입력받으세요.\n",
    "#3.입력이 종료되면 여태까지 받았던 음식 이름이 리스트에 저장되게 해주세요.\n",
    "\n",
    "print(\"먹고 싶은 음식을 입력하세요>\")\n",
    "print(\"그만 입력하려면\\\"그만\\\" 이라고 쓰세요 \")\n",
    "foods = []\n",
    "while(True) :\n",
    "    n = input(\"> \")\n",
    "    if n == \"그만\":\n",
    "        break;\n",
    "    else :\n",
    "        foods.append(n)\n",
    "        \n",
    "print(foods)"
   ]
  },
  {
   "cell_type": "code",
   "execution_count": null,
   "id": "1c37474a",
   "metadata": {},
   "outputs": [
    {
     "name": "stdout",
     "output_type": "stream",
     "text": [
      "------연락처 관리-------\n",
      "1.연락처 등록\n",
      "2.연락처 검색\n",
      "3.연락처 삭제\n",
      "4.모든연락처 조회\n",
      "5.종료\n",
      "------------------------\n",
      "메뉴번호>1\n",
      "이름을 입력해 주세요> 김경연\n",
      "연락처를 입력해 주세요> 01077369695\n",
      "김경연님 연락처 01077369695 저장완료\n",
      "------연락처 관리-------\n",
      "1.연락처 등록\n",
      "2.연락처 검색\n",
      "3.연락처 삭제\n",
      "4.모든연락처 조회\n",
      "5.종료\n",
      "------------------------\n",
      "메뉴번호>4\n",
      "김경연 : 010-7736-9695\n",
      "------연락처 관리-------\n",
      "1.연락처 등록\n",
      "2.연락처 검색\n",
      "3.연락처 삭제\n",
      "4.모든연락처 조회\n",
      "5.종료\n",
      "------------------------\n",
      "메뉴번호>4\n",
      "김경연 : 010-7736-9695\n",
      "------연락처 관리-------\n",
      "1.연락처 등록\n",
      "2.연락처 검색\n",
      "3.연락처 삭제\n",
      "4.모든연락처 조회\n",
      "5.종료\n",
      "------------------------\n"
     ]
    }
   ],
   "source": [
    "#실습\n",
    "#리스트를 이용한 간략한 연락처 관리 프로그램코드\n",
    "name_list = [] #이름을 저장할 리스트\n",
    "phone_list = []\n",
    "\n",
    "while True:\n",
    "    print(\"\")\n",
    "    print(\"\")\n",
    "    print(\"------연락처 관리-------\")\n",
    "    print(\"1.연락처 등록\")\n",
    "    print(\"2.연락처 검색\")    \n",
    "    print(\"3.연락처 삭제\")\n",
    "    print(\"4.모든연락처 조회\")\n",
    "    print(\"5.종료\")\n",
    "    print(\"------------------------\")\n",
    "    \n",
    "    menu = input(\"메뉴번호>\")\n",
    "    if menu == '1' :\n",
    "        name = input(\"이름을 입력해 주세요> \")\n",
    "        name_list.append(name)\n",
    "        phone = input(\"연락처를 입력해 주세요> \")\n",
    "        phone_list.append(phone)\n",
    "        print(f\"{name}님 연락처 {phone} 저장완료\")\n",
    "        \n",
    "    elif menu == '2':\n",
    "        b_name = False\n",
    "        name = input(\"검색할 이름을 입력해 주세요> \")\n",
    "        \n",
    "        for i in name_list:\n",
    "            if i == name :\n",
    "                b_name = True\n",
    "        \n",
    "        if(not b_name) :\n",
    "            print(f\"{name} : 연락처에 없습니다.\")        \n",
    "        else :\n",
    "            idx=name_list.index(name)\n",
    "            print(f\"{name}님 연락처 : {phone_list[idx]}\")\n",
    "            \n",
    "    elif menu == '3':\n",
    "        b_name = False\n",
    "        name = input(\"삭제할 연락처의 이름을 입력해주세요>\")\n",
    "        \n",
    "        for i in name_list:\n",
    "            if i == name :\n",
    "                b_name = True\n",
    "        \n",
    "        if(not b_name):\n",
    "            print(\"연락처에 없습니다\")\n",
    "            \n",
    "        else:      \n",
    "            idx = name_list.index(name)\n",
    "            name_list.remove(name)\n",
    "            phone_list.remove(phone_list[idx])\n",
    "        \n",
    "    elif menu == '4':\n",
    "        #000-0000-0000\n",
    "        for i in range(0,len(name_list)):\n",
    "            phone = phone_list[i]\n",
    "            newPhone = phone[:3] + \"-\" + phone[3:7] + \"-\" + phone[7:]\n",
    "            print(f\"{name_list[i]} : {newPhone}\")\n",
    "            \n",
    "    \n",
    "    elif menu == '5':\n",
    "        print(\"프로그램을 종료합니다.\")\n",
    "        break\n",
    "    else :\n",
    "        print(\"잘못된 메뉴를 입력했습니다.\")\n"
   ]
  },
  {
   "cell_type": "code",
   "execution_count": 1,
   "id": "a9b0cca4",
   "metadata": {},
   "outputs": [
    {
     "ename": "ValueError",
     "evalue": "'ㅇㅇ' is not in list",
     "output_type": "error",
     "traceback": [
      "\u001b[1;31m---------------------------------------------------------------------------\u001b[0m",
      "\u001b[1;31mValueError\u001b[0m                                Traceback (most recent call last)",
      "Cell \u001b[1;32mIn[1], line 4\u001b[0m\n\u001b[0;32m      1\u001b[0m name_list \u001b[38;5;241m=\u001b[39m [] \u001b[38;5;66;03m#이름을 저장할 리스트\u001b[39;00m\n\u001b[0;32m      2\u001b[0m phone_list \u001b[38;5;241m=\u001b[39m []\n\u001b[1;32m----> 4\u001b[0m \u001b[38;5;28mprint\u001b[39m(name_list\u001b[38;5;241m.\u001b[39mindex(\u001b[38;5;124m\"\u001b[39m\u001b[38;5;124mㅇㅇ\u001b[39m\u001b[38;5;124m\"\u001b[39m))\n",
      "\u001b[1;31mValueError\u001b[0m: 'ㅇㅇ' is not in list"
     ]
    }
   ],
   "source": [
    "name_list = [] #이름을 저장할 리스트\n",
    "phone_list = []\n",
    "\n",
    "print(name_list.index(\"ㅇㅇ\"))\n"
   ]
  },
  {
   "cell_type": "code",
   "execution_count": null,
   "id": "b2b4e939",
   "metadata": {},
   "outputs": [],
   "source": []
  }
 ],
 "metadata": {
  "kernelspec": {
   "display_name": "Python 3 (ipykernel)",
   "language": "python",
   "name": "python3"
  },
  "language_info": {
   "codemirror_mode": {
    "name": "ipython",
    "version": 3
   },
   "file_extension": ".py",
   "mimetype": "text/x-python",
   "name": "python",
   "nbconvert_exporter": "python",
   "pygments_lexer": "ipython3",
   "version": "3.11.5"
  }
 },
 "nbformat": 4,
 "nbformat_minor": 5
}
